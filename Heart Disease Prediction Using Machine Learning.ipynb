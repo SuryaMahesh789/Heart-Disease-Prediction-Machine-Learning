{
 "cells": [
  {
   "cell_type": "markdown",
   "id": "859ae377",
   "metadata": {},
   "source": [
    "# Heart Disease Prediction By Surya Mahesh Kolisetty"
   ]
  },
  {
   "cell_type": "markdown",
   "id": "2922855c",
   "metadata": {},
   "source": [
    "## Installing Essential Machine Learning Libraries"
   ]
  },
  {
   "cell_type": "markdown",
   "id": "2a0ab951",
   "metadata": {},
   "source": [
    "!pip install seaborn\n",
    "!pip install numpy\n",
    "!pip install pandas\n",
    "!pip install scikit-learn\n",
    "!pip install matplotlib\n",
    "!pip install notebook\n",
    "!pip install xgboost\n",
    "!pip install keras\n",
    "!pip install tensorflow"
   ]
  },
  {
   "cell_type": "markdown",
   "id": "e80e00c8",
   "metadata": {},
   "source": [
    "## Importing essential libraries"
   ]
  },
  {
   "cell_type": "code",
   "execution_count": 11,
   "id": "2bf92ed4",
   "metadata": {},
   "outputs": [
    {
     "name": "stdout",
     "output_type": "stream",
     "text": [
      "['.ipynb_checkpoints', 'Heart Disease Prediction Using Machine Learning.ipynb', 'heart.csv']\n"
     ]
    }
   ],
   "source": [
    "import numpy as np\n",
    "import pandas as pd\n",
    "import seaborn as sns\n",
    "import matplotlib.pyplot as plt\n",
    "\n",
    "%matplotlib inline\n",
    "\n",
    "import os\n",
    "print(os.listdir())\n",
    "\n",
    "import warnings\n",
    "warnings.filterwarnings('ignore')"
   ]
  },
  {
   "cell_type": "markdown",
   "id": "0dc5d73d",
   "metadata": {},
   "source": [
    "## Importing and Familiarizing with Our Dataset"
   ]
  },
  {
   "cell_type": "markdown",
   "id": "13968dcd",
   "metadata": {},
   "source": [
    "### Read and load a CSV dataset named \"heart.csv\" using the pandas library."
   ]
  },
  {
   "cell_type": "code",
   "execution_count": 12,
   "id": "03581b42",
   "metadata": {},
   "outputs": [],
   "source": [
    "dataset=pd.read_csv(\"heart.csv\")"
   ]
  },
  {
   "cell_type": "markdown",
   "id": "239fe88e",
   "metadata": {},
   "source": [
    "### Verifying it as a 'dataframe' object in pandas"
   ]
  },
  {
   "cell_type": "code",
   "execution_count": 13,
   "id": "adef32e1",
   "metadata": {},
   "outputs": [
    {
     "data": {
      "text/plain": [
       "pandas.core.frame.DataFrame"
      ]
     },
     "execution_count": 13,
     "metadata": {},
     "output_type": "execute_result"
    }
   ],
   "source": [
    "type(dataset)"
   ]
  },
  {
   "cell_type": "markdown",
   "id": "6dc5a8de",
   "metadata": {},
   "source": [
    "### Shape of dataset"
   ]
  },
  {
   "cell_type": "code",
   "execution_count": 14,
   "id": "e079c4ea",
   "metadata": {},
   "outputs": [
    {
     "data": {
      "text/plain": [
       "(303, 14)"
      ]
     },
     "execution_count": 14,
     "metadata": {},
     "output_type": "execute_result"
    }
   ],
   "source": [
    "dataset.shape"
   ]
  },
  {
   "cell_type": "markdown",
   "id": "159293da",
   "metadata": {},
   "source": [
    "### Display first five rows of the dataset"
   ]
  },
  {
   "cell_type": "code",
   "execution_count": 15,
   "id": "f2953870",
   "metadata": {},
   "outputs": [
    {
     "data": {
      "text/html": [
       "<div>\n",
       "<style scoped>\n",
       "    .dataframe tbody tr th:only-of-type {\n",
       "        vertical-align: middle;\n",
       "    }\n",
       "\n",
       "    .dataframe tbody tr th {\n",
       "        vertical-align: top;\n",
       "    }\n",
       "\n",
       "    .dataframe thead th {\n",
       "        text-align: right;\n",
       "    }\n",
       "</style>\n",
       "<table border=\"1\" class=\"dataframe\">\n",
       "  <thead>\n",
       "    <tr style=\"text-align: right;\">\n",
       "      <th></th>\n",
       "      <th>age</th>\n",
       "      <th>sex</th>\n",
       "      <th>cp</th>\n",
       "      <th>trestbps</th>\n",
       "      <th>chol</th>\n",
       "      <th>fbs</th>\n",
       "      <th>restecg</th>\n",
       "      <th>thalach</th>\n",
       "      <th>exang</th>\n",
       "      <th>oldpeak</th>\n",
       "      <th>slope</th>\n",
       "      <th>ca</th>\n",
       "      <th>thal</th>\n",
       "      <th>target</th>\n",
       "    </tr>\n",
       "  </thead>\n",
       "  <tbody>\n",
       "    <tr>\n",
       "      <th>0</th>\n",
       "      <td>63</td>\n",
       "      <td>1</td>\n",
       "      <td>3</td>\n",
       "      <td>145</td>\n",
       "      <td>233</td>\n",
       "      <td>1</td>\n",
       "      <td>0</td>\n",
       "      <td>150</td>\n",
       "      <td>0</td>\n",
       "      <td>2.3</td>\n",
       "      <td>0</td>\n",
       "      <td>0</td>\n",
       "      <td>1</td>\n",
       "      <td>1</td>\n",
       "    </tr>\n",
       "    <tr>\n",
       "      <th>1</th>\n",
       "      <td>37</td>\n",
       "      <td>1</td>\n",
       "      <td>2</td>\n",
       "      <td>130</td>\n",
       "      <td>250</td>\n",
       "      <td>0</td>\n",
       "      <td>1</td>\n",
       "      <td>187</td>\n",
       "      <td>0</td>\n",
       "      <td>3.5</td>\n",
       "      <td>0</td>\n",
       "      <td>0</td>\n",
       "      <td>2</td>\n",
       "      <td>1</td>\n",
       "    </tr>\n",
       "    <tr>\n",
       "      <th>2</th>\n",
       "      <td>41</td>\n",
       "      <td>0</td>\n",
       "      <td>1</td>\n",
       "      <td>130</td>\n",
       "      <td>204</td>\n",
       "      <td>0</td>\n",
       "      <td>0</td>\n",
       "      <td>172</td>\n",
       "      <td>0</td>\n",
       "      <td>1.4</td>\n",
       "      <td>2</td>\n",
       "      <td>0</td>\n",
       "      <td>2</td>\n",
       "      <td>1</td>\n",
       "    </tr>\n",
       "    <tr>\n",
       "      <th>3</th>\n",
       "      <td>56</td>\n",
       "      <td>1</td>\n",
       "      <td>1</td>\n",
       "      <td>120</td>\n",
       "      <td>236</td>\n",
       "      <td>0</td>\n",
       "      <td>1</td>\n",
       "      <td>178</td>\n",
       "      <td>0</td>\n",
       "      <td>0.8</td>\n",
       "      <td>2</td>\n",
       "      <td>0</td>\n",
       "      <td>2</td>\n",
       "      <td>1</td>\n",
       "    </tr>\n",
       "    <tr>\n",
       "      <th>4</th>\n",
       "      <td>57</td>\n",
       "      <td>0</td>\n",
       "      <td>0</td>\n",
       "      <td>120</td>\n",
       "      <td>354</td>\n",
       "      <td>0</td>\n",
       "      <td>1</td>\n",
       "      <td>163</td>\n",
       "      <td>1</td>\n",
       "      <td>0.6</td>\n",
       "      <td>2</td>\n",
       "      <td>0</td>\n",
       "      <td>2</td>\n",
       "      <td>1</td>\n",
       "    </tr>\n",
       "  </tbody>\n",
       "</table>\n",
       "</div>"
      ],
      "text/plain": [
       "   age  sex  cp  trestbps  chol  fbs  restecg  thalach  exang  oldpeak  slope  \\\n",
       "0   63    1   3       145   233    1        0      150      0      2.3      0   \n",
       "1   37    1   2       130   250    0        1      187      0      3.5      0   \n",
       "2   41    0   1       130   204    0        0      172      0      1.4      2   \n",
       "3   56    1   1       120   236    0        1      178      0      0.8      2   \n",
       "4   57    0   0       120   354    0        1      163      1      0.6      2   \n",
       "\n",
       "   ca  thal  target  \n",
       "0   0     1       1  \n",
       "1   0     2       1  \n",
       "2   0     2       1  \n",
       "3   0     2       1  \n",
       "4   0     2       1  "
      ]
     },
     "execution_count": 15,
     "metadata": {},
     "output_type": "execute_result"
    }
   ],
   "source": [
    "dataset.head(5)"
   ]
  },
  {
   "cell_type": "markdown",
   "id": "57b2e837",
   "metadata": {},
   "source": [
    "### Randomly select and display 5 rows of the dataset"
   ]
  },
  {
   "cell_type": "code",
   "execution_count": 16,
   "id": "bef38a32",
   "metadata": {},
   "outputs": [
    {
     "data": {
      "text/html": [
       "<div>\n",
       "<style scoped>\n",
       "    .dataframe tbody tr th:only-of-type {\n",
       "        vertical-align: middle;\n",
       "    }\n",
       "\n",
       "    .dataframe tbody tr th {\n",
       "        vertical-align: top;\n",
       "    }\n",
       "\n",
       "    .dataframe thead th {\n",
       "        text-align: right;\n",
       "    }\n",
       "</style>\n",
       "<table border=\"1\" class=\"dataframe\">\n",
       "  <thead>\n",
       "    <tr style=\"text-align: right;\">\n",
       "      <th></th>\n",
       "      <th>age</th>\n",
       "      <th>sex</th>\n",
       "      <th>cp</th>\n",
       "      <th>trestbps</th>\n",
       "      <th>chol</th>\n",
       "      <th>fbs</th>\n",
       "      <th>restecg</th>\n",
       "      <th>thalach</th>\n",
       "      <th>exang</th>\n",
       "      <th>oldpeak</th>\n",
       "      <th>slope</th>\n",
       "      <th>ca</th>\n",
       "      <th>thal</th>\n",
       "      <th>target</th>\n",
       "    </tr>\n",
       "  </thead>\n",
       "  <tbody>\n",
       "    <tr>\n",
       "      <th>69</th>\n",
       "      <td>62</td>\n",
       "      <td>0</td>\n",
       "      <td>0</td>\n",
       "      <td>124</td>\n",
       "      <td>209</td>\n",
       "      <td>0</td>\n",
       "      <td>1</td>\n",
       "      <td>163</td>\n",
       "      <td>0</td>\n",
       "      <td>0.0</td>\n",
       "      <td>2</td>\n",
       "      <td>0</td>\n",
       "      <td>2</td>\n",
       "      <td>1</td>\n",
       "    </tr>\n",
       "    <tr>\n",
       "      <th>135</th>\n",
       "      <td>49</td>\n",
       "      <td>0</td>\n",
       "      <td>0</td>\n",
       "      <td>130</td>\n",
       "      <td>269</td>\n",
       "      <td>0</td>\n",
       "      <td>1</td>\n",
       "      <td>163</td>\n",
       "      <td>0</td>\n",
       "      <td>0.0</td>\n",
       "      <td>2</td>\n",
       "      <td>0</td>\n",
       "      <td>2</td>\n",
       "      <td>1</td>\n",
       "    </tr>\n",
       "    <tr>\n",
       "      <th>106</th>\n",
       "      <td>69</td>\n",
       "      <td>1</td>\n",
       "      <td>3</td>\n",
       "      <td>160</td>\n",
       "      <td>234</td>\n",
       "      <td>1</td>\n",
       "      <td>0</td>\n",
       "      <td>131</td>\n",
       "      <td>0</td>\n",
       "      <td>0.1</td>\n",
       "      <td>1</td>\n",
       "      <td>1</td>\n",
       "      <td>2</td>\n",
       "      <td>1</td>\n",
       "    </tr>\n",
       "    <tr>\n",
       "      <th>188</th>\n",
       "      <td>50</td>\n",
       "      <td>1</td>\n",
       "      <td>2</td>\n",
       "      <td>140</td>\n",
       "      <td>233</td>\n",
       "      <td>0</td>\n",
       "      <td>1</td>\n",
       "      <td>163</td>\n",
       "      <td>0</td>\n",
       "      <td>0.6</td>\n",
       "      <td>1</td>\n",
       "      <td>1</td>\n",
       "      <td>3</td>\n",
       "      <td>0</td>\n",
       "    </tr>\n",
       "    <tr>\n",
       "      <th>177</th>\n",
       "      <td>64</td>\n",
       "      <td>1</td>\n",
       "      <td>2</td>\n",
       "      <td>140</td>\n",
       "      <td>335</td>\n",
       "      <td>0</td>\n",
       "      <td>1</td>\n",
       "      <td>158</td>\n",
       "      <td>0</td>\n",
       "      <td>0.0</td>\n",
       "      <td>2</td>\n",
       "      <td>0</td>\n",
       "      <td>2</td>\n",
       "      <td>0</td>\n",
       "    </tr>\n",
       "  </tbody>\n",
       "</table>\n",
       "</div>"
      ],
      "text/plain": [
       "     age  sex  cp  trestbps  chol  fbs  restecg  thalach  exang  oldpeak  \\\n",
       "69    62    0   0       124   209    0        1      163      0      0.0   \n",
       "135   49    0   0       130   269    0        1      163      0      0.0   \n",
       "106   69    1   3       160   234    1        0      131      0      0.1   \n",
       "188   50    1   2       140   233    0        1      163      0      0.6   \n",
       "177   64    1   2       140   335    0        1      158      0      0.0   \n",
       "\n",
       "     slope  ca  thal  target  \n",
       "69       2   0     2       1  \n",
       "135      2   0     2       1  \n",
       "106      1   1     2       1  \n",
       "188      1   1     3       0  \n",
       "177      2   0     2       0  "
      ]
     },
     "execution_count": 16,
     "metadata": {},
     "output_type": "execute_result"
    }
   ],
   "source": [
    "dataset.sample(5)"
   ]
  },
  {
   "cell_type": "markdown",
   "id": "0db0db05",
   "metadata": {},
   "source": [
    "### Display last five rows of the dataset"
   ]
  },
  {
   "cell_type": "code",
   "execution_count": 17,
   "id": "fae00665",
   "metadata": {},
   "outputs": [
    {
     "data": {
      "text/html": [
       "<div>\n",
       "<style scoped>\n",
       "    .dataframe tbody tr th:only-of-type {\n",
       "        vertical-align: middle;\n",
       "    }\n",
       "\n",
       "    .dataframe tbody tr th {\n",
       "        vertical-align: top;\n",
       "    }\n",
       "\n",
       "    .dataframe thead th {\n",
       "        text-align: right;\n",
       "    }\n",
       "</style>\n",
       "<table border=\"1\" class=\"dataframe\">\n",
       "  <thead>\n",
       "    <tr style=\"text-align: right;\">\n",
       "      <th></th>\n",
       "      <th>age</th>\n",
       "      <th>sex</th>\n",
       "      <th>cp</th>\n",
       "      <th>trestbps</th>\n",
       "      <th>chol</th>\n",
       "      <th>fbs</th>\n",
       "      <th>restecg</th>\n",
       "      <th>thalach</th>\n",
       "      <th>exang</th>\n",
       "      <th>oldpeak</th>\n",
       "      <th>slope</th>\n",
       "      <th>ca</th>\n",
       "      <th>thal</th>\n",
       "      <th>target</th>\n",
       "    </tr>\n",
       "  </thead>\n",
       "  <tbody>\n",
       "    <tr>\n",
       "      <th>298</th>\n",
       "      <td>57</td>\n",
       "      <td>0</td>\n",
       "      <td>0</td>\n",
       "      <td>140</td>\n",
       "      <td>241</td>\n",
       "      <td>0</td>\n",
       "      <td>1</td>\n",
       "      <td>123</td>\n",
       "      <td>1</td>\n",
       "      <td>0.2</td>\n",
       "      <td>1</td>\n",
       "      <td>0</td>\n",
       "      <td>3</td>\n",
       "      <td>0</td>\n",
       "    </tr>\n",
       "    <tr>\n",
       "      <th>299</th>\n",
       "      <td>45</td>\n",
       "      <td>1</td>\n",
       "      <td>3</td>\n",
       "      <td>110</td>\n",
       "      <td>264</td>\n",
       "      <td>0</td>\n",
       "      <td>1</td>\n",
       "      <td>132</td>\n",
       "      <td>0</td>\n",
       "      <td>1.2</td>\n",
       "      <td>1</td>\n",
       "      <td>0</td>\n",
       "      <td>3</td>\n",
       "      <td>0</td>\n",
       "    </tr>\n",
       "    <tr>\n",
       "      <th>300</th>\n",
       "      <td>68</td>\n",
       "      <td>1</td>\n",
       "      <td>0</td>\n",
       "      <td>144</td>\n",
       "      <td>193</td>\n",
       "      <td>1</td>\n",
       "      <td>1</td>\n",
       "      <td>141</td>\n",
       "      <td>0</td>\n",
       "      <td>3.4</td>\n",
       "      <td>1</td>\n",
       "      <td>2</td>\n",
       "      <td>3</td>\n",
       "      <td>0</td>\n",
       "    </tr>\n",
       "    <tr>\n",
       "      <th>301</th>\n",
       "      <td>57</td>\n",
       "      <td>1</td>\n",
       "      <td>0</td>\n",
       "      <td>130</td>\n",
       "      <td>131</td>\n",
       "      <td>0</td>\n",
       "      <td>1</td>\n",
       "      <td>115</td>\n",
       "      <td>1</td>\n",
       "      <td>1.2</td>\n",
       "      <td>1</td>\n",
       "      <td>1</td>\n",
       "      <td>3</td>\n",
       "      <td>0</td>\n",
       "    </tr>\n",
       "    <tr>\n",
       "      <th>302</th>\n",
       "      <td>57</td>\n",
       "      <td>0</td>\n",
       "      <td>1</td>\n",
       "      <td>130</td>\n",
       "      <td>236</td>\n",
       "      <td>0</td>\n",
       "      <td>0</td>\n",
       "      <td>174</td>\n",
       "      <td>0</td>\n",
       "      <td>0.0</td>\n",
       "      <td>1</td>\n",
       "      <td>1</td>\n",
       "      <td>2</td>\n",
       "      <td>0</td>\n",
       "    </tr>\n",
       "  </tbody>\n",
       "</table>\n",
       "</div>"
      ],
      "text/plain": [
       "     age  sex  cp  trestbps  chol  fbs  restecg  thalach  exang  oldpeak  \\\n",
       "298   57    0   0       140   241    0        1      123      1      0.2   \n",
       "299   45    1   3       110   264    0        1      132      0      1.2   \n",
       "300   68    1   0       144   193    1        1      141      0      3.4   \n",
       "301   57    1   0       130   131    0        1      115      1      1.2   \n",
       "302   57    0   1       130   236    0        0      174      0      0.0   \n",
       "\n",
       "     slope  ca  thal  target  \n",
       "298      1   0     3       0  \n",
       "299      1   0     3       0  \n",
       "300      1   2     3       0  \n",
       "301      1   1     3       0  \n",
       "302      1   1     2       0  "
      ]
     },
     "execution_count": 17,
     "metadata": {},
     "output_type": "execute_result"
    }
   ],
   "source": [
    "dataset.tail(5)"
   ]
  },
  {
   "cell_type": "markdown",
   "id": "fc7734a3",
   "metadata": {},
   "source": [
    "### Dataset Description - summary statistics of the dataset's numerical columns, such as mean, standard deviation, min, max, and quartiles"
   ]
  },
  {
   "cell_type": "code",
   "execution_count": 18,
   "id": "2af839a2",
   "metadata": {},
   "outputs": [
    {
     "data": {
      "text/html": [
       "<div>\n",
       "<style scoped>\n",
       "    .dataframe tbody tr th:only-of-type {\n",
       "        vertical-align: middle;\n",
       "    }\n",
       "\n",
       "    .dataframe tbody tr th {\n",
       "        vertical-align: top;\n",
       "    }\n",
       "\n",
       "    .dataframe thead th {\n",
       "        text-align: right;\n",
       "    }\n",
       "</style>\n",
       "<table border=\"1\" class=\"dataframe\">\n",
       "  <thead>\n",
       "    <tr style=\"text-align: right;\">\n",
       "      <th></th>\n",
       "      <th>age</th>\n",
       "      <th>sex</th>\n",
       "      <th>cp</th>\n",
       "      <th>trestbps</th>\n",
       "      <th>chol</th>\n",
       "      <th>fbs</th>\n",
       "      <th>restecg</th>\n",
       "      <th>thalach</th>\n",
       "      <th>exang</th>\n",
       "      <th>oldpeak</th>\n",
       "      <th>slope</th>\n",
       "      <th>ca</th>\n",
       "      <th>thal</th>\n",
       "      <th>target</th>\n",
       "    </tr>\n",
       "  </thead>\n",
       "  <tbody>\n",
       "    <tr>\n",
       "      <th>count</th>\n",
       "      <td>303.000000</td>\n",
       "      <td>303.000000</td>\n",
       "      <td>303.000000</td>\n",
       "      <td>303.000000</td>\n",
       "      <td>303.000000</td>\n",
       "      <td>303.000000</td>\n",
       "      <td>303.000000</td>\n",
       "      <td>303.000000</td>\n",
       "      <td>303.000000</td>\n",
       "      <td>303.000000</td>\n",
       "      <td>303.000000</td>\n",
       "      <td>303.000000</td>\n",
       "      <td>303.000000</td>\n",
       "      <td>303.000000</td>\n",
       "    </tr>\n",
       "    <tr>\n",
       "      <th>mean</th>\n",
       "      <td>54.366337</td>\n",
       "      <td>0.683168</td>\n",
       "      <td>0.966997</td>\n",
       "      <td>131.623762</td>\n",
       "      <td>246.264026</td>\n",
       "      <td>0.148515</td>\n",
       "      <td>0.528053</td>\n",
       "      <td>149.646865</td>\n",
       "      <td>0.326733</td>\n",
       "      <td>1.039604</td>\n",
       "      <td>1.399340</td>\n",
       "      <td>0.729373</td>\n",
       "      <td>2.313531</td>\n",
       "      <td>0.544554</td>\n",
       "    </tr>\n",
       "    <tr>\n",
       "      <th>std</th>\n",
       "      <td>9.082101</td>\n",
       "      <td>0.466011</td>\n",
       "      <td>1.032052</td>\n",
       "      <td>17.538143</td>\n",
       "      <td>51.830751</td>\n",
       "      <td>0.356198</td>\n",
       "      <td>0.525860</td>\n",
       "      <td>22.905161</td>\n",
       "      <td>0.469794</td>\n",
       "      <td>1.161075</td>\n",
       "      <td>0.616226</td>\n",
       "      <td>1.022606</td>\n",
       "      <td>0.612277</td>\n",
       "      <td>0.498835</td>\n",
       "    </tr>\n",
       "    <tr>\n",
       "      <th>min</th>\n",
       "      <td>29.000000</td>\n",
       "      <td>0.000000</td>\n",
       "      <td>0.000000</td>\n",
       "      <td>94.000000</td>\n",
       "      <td>126.000000</td>\n",
       "      <td>0.000000</td>\n",
       "      <td>0.000000</td>\n",
       "      <td>71.000000</td>\n",
       "      <td>0.000000</td>\n",
       "      <td>0.000000</td>\n",
       "      <td>0.000000</td>\n",
       "      <td>0.000000</td>\n",
       "      <td>0.000000</td>\n",
       "      <td>0.000000</td>\n",
       "    </tr>\n",
       "    <tr>\n",
       "      <th>25%</th>\n",
       "      <td>47.500000</td>\n",
       "      <td>0.000000</td>\n",
       "      <td>0.000000</td>\n",
       "      <td>120.000000</td>\n",
       "      <td>211.000000</td>\n",
       "      <td>0.000000</td>\n",
       "      <td>0.000000</td>\n",
       "      <td>133.500000</td>\n",
       "      <td>0.000000</td>\n",
       "      <td>0.000000</td>\n",
       "      <td>1.000000</td>\n",
       "      <td>0.000000</td>\n",
       "      <td>2.000000</td>\n",
       "      <td>0.000000</td>\n",
       "    </tr>\n",
       "    <tr>\n",
       "      <th>50%</th>\n",
       "      <td>55.000000</td>\n",
       "      <td>1.000000</td>\n",
       "      <td>1.000000</td>\n",
       "      <td>130.000000</td>\n",
       "      <td>240.000000</td>\n",
       "      <td>0.000000</td>\n",
       "      <td>1.000000</td>\n",
       "      <td>153.000000</td>\n",
       "      <td>0.000000</td>\n",
       "      <td>0.800000</td>\n",
       "      <td>1.000000</td>\n",
       "      <td>0.000000</td>\n",
       "      <td>2.000000</td>\n",
       "      <td>1.000000</td>\n",
       "    </tr>\n",
       "    <tr>\n",
       "      <th>75%</th>\n",
       "      <td>61.000000</td>\n",
       "      <td>1.000000</td>\n",
       "      <td>2.000000</td>\n",
       "      <td>140.000000</td>\n",
       "      <td>274.500000</td>\n",
       "      <td>0.000000</td>\n",
       "      <td>1.000000</td>\n",
       "      <td>166.000000</td>\n",
       "      <td>1.000000</td>\n",
       "      <td>1.600000</td>\n",
       "      <td>2.000000</td>\n",
       "      <td>1.000000</td>\n",
       "      <td>3.000000</td>\n",
       "      <td>1.000000</td>\n",
       "    </tr>\n",
       "    <tr>\n",
       "      <th>max</th>\n",
       "      <td>77.000000</td>\n",
       "      <td>1.000000</td>\n",
       "      <td>3.000000</td>\n",
       "      <td>200.000000</td>\n",
       "      <td>564.000000</td>\n",
       "      <td>1.000000</td>\n",
       "      <td>2.000000</td>\n",
       "      <td>202.000000</td>\n",
       "      <td>1.000000</td>\n",
       "      <td>6.200000</td>\n",
       "      <td>2.000000</td>\n",
       "      <td>4.000000</td>\n",
       "      <td>3.000000</td>\n",
       "      <td>1.000000</td>\n",
       "    </tr>\n",
       "  </tbody>\n",
       "</table>\n",
       "</div>"
      ],
      "text/plain": [
       "              age         sex          cp    trestbps        chol         fbs  \\\n",
       "count  303.000000  303.000000  303.000000  303.000000  303.000000  303.000000   \n",
       "mean    54.366337    0.683168    0.966997  131.623762  246.264026    0.148515   \n",
       "std      9.082101    0.466011    1.032052   17.538143   51.830751    0.356198   \n",
       "min     29.000000    0.000000    0.000000   94.000000  126.000000    0.000000   \n",
       "25%     47.500000    0.000000    0.000000  120.000000  211.000000    0.000000   \n",
       "50%     55.000000    1.000000    1.000000  130.000000  240.000000    0.000000   \n",
       "75%     61.000000    1.000000    2.000000  140.000000  274.500000    0.000000   \n",
       "max     77.000000    1.000000    3.000000  200.000000  564.000000    1.000000   \n",
       "\n",
       "          restecg     thalach       exang     oldpeak       slope          ca  \\\n",
       "count  303.000000  303.000000  303.000000  303.000000  303.000000  303.000000   \n",
       "mean     0.528053  149.646865    0.326733    1.039604    1.399340    0.729373   \n",
       "std      0.525860   22.905161    0.469794    1.161075    0.616226    1.022606   \n",
       "min      0.000000   71.000000    0.000000    0.000000    0.000000    0.000000   \n",
       "25%      0.000000  133.500000    0.000000    0.000000    1.000000    0.000000   \n",
       "50%      1.000000  153.000000    0.000000    0.800000    1.000000    0.000000   \n",
       "75%      1.000000  166.000000    1.000000    1.600000    2.000000    1.000000   \n",
       "max      2.000000  202.000000    1.000000    6.200000    2.000000    4.000000   \n",
       "\n",
       "             thal      target  \n",
       "count  303.000000  303.000000  \n",
       "mean     2.313531    0.544554  \n",
       "std      0.612277    0.498835  \n",
       "min      0.000000    0.000000  \n",
       "25%      2.000000    0.000000  \n",
       "50%      2.000000    1.000000  \n",
       "75%      3.000000    1.000000  \n",
       "max      3.000000    1.000000  "
      ]
     },
     "execution_count": 18,
     "metadata": {},
     "output_type": "execute_result"
    }
   ],
   "source": [
    "dataset.describe()"
   ]
  },
  {
   "cell_type": "markdown",
   "id": "85708c4a",
   "metadata": {},
   "source": [
    "### Dataset Info - concise summary of the dataset's structure, including the number of non-null entries and data types of columns"
   ]
  },
  {
   "cell_type": "code",
   "execution_count": 19,
   "id": "37ba20ef",
   "metadata": {},
   "outputs": [
    {
     "name": "stdout",
     "output_type": "stream",
     "text": [
      "<class 'pandas.core.frame.DataFrame'>\n",
      "RangeIndex: 303 entries, 0 to 302\n",
      "Data columns (total 14 columns):\n",
      " #   Column    Non-Null Count  Dtype  \n",
      "---  ------    --------------  -----  \n",
      " 0   age       303 non-null    int64  \n",
      " 1   sex       303 non-null    int64  \n",
      " 2   cp        303 non-null    int64  \n",
      " 3   trestbps  303 non-null    int64  \n",
      " 4   chol      303 non-null    int64  \n",
      " 5   fbs       303 non-null    int64  \n",
      " 6   restecg   303 non-null    int64  \n",
      " 7   thalach   303 non-null    int64  \n",
      " 8   exang     303 non-null    int64  \n",
      " 9   oldpeak   303 non-null    float64\n",
      " 10  slope     303 non-null    int64  \n",
      " 11  ca        303 non-null    int64  \n",
      " 12  thal      303 non-null    int64  \n",
      " 13  target    303 non-null    int64  \n",
      "dtypes: float64(1), int64(13)\n",
      "memory usage: 33.3 KB\n"
     ]
    }
   ],
   "source": [
    "dataset.info()"
   ]
  },
  {
   "cell_type": "markdown",
   "id": "1ecdce60",
   "metadata": {},
   "source": [
    "####  Hurrayyyy - we have no missing values"
   ]
  },
  {
   "cell_type": "markdown",
   "id": "5e1a61b7",
   "metadata": {},
   "source": [
    "### Let's see the name of columns in the dataset"
   ]
  },
  {
   "cell_type": "code",
   "execution_count": 20,
   "id": "2f1e9346",
   "metadata": {},
   "outputs": [
    {
     "data": {
      "text/plain": [
       "Index(['age', 'sex', 'cp', 'trestbps', 'chol', 'fbs', 'restecg', 'thalach',\n",
       "       'exang', 'oldpeak', 'slope', 'ca', 'thal', 'target'],\n",
       "      dtype='object')"
      ]
     },
     "execution_count": 20,
     "metadata": {},
     "output_type": "execute_result"
    }
   ],
   "source": [
    "dataset.columns"
   ]
  },
  {
   "cell_type": "markdown",
   "id": "5e0e15ea",
   "metadata": {},
   "source": [
    "### Let's Understand Columns better"
   ]
  },
  {
   "cell_type": "code",
   "execution_count": 22,
   "id": "1725aa0c",
   "metadata": {},
   "outputs": [
    {
     "name": "stdout",
     "output_type": "stream",
     "text": [
      "age:\t\t\tage\n",
      "sex:\t\t\t1: male, 0: female\n",
      "cp:\t\t\tchest pain type, 1: typical angina, 2: atypical angina, 3: non-anginal pain, 4: asymptomatic\n",
      "trestbps:\t\t\tresting blood pressure\n",
      "chol:\t\t\t serum cholestoral in mg/dl\n",
      "fbs:\t\t\tfasting blood sugar > 120 mg/dl\n",
      "restecg:\t\t\tresting electrocardiographic results (values 0,1,2)\n",
      "thalach:\t\t\t maximum heart rate achieved\n",
      "exang:\t\t\texercise induced angina\n",
      "oldpeak:\t\t\toldpeak = ST depression induced by exercise relative to rest\n",
      "slope:\t\t\tthe slope of the peak exercise ST segment\n",
      "ca:\t\t\tnumber of major vessels (0-3) colored by flourosopy\n",
      "thal:\t\t\tthal: 3 = normal; 6 = fixed defect; 7 = reversable defect\n"
     ]
    }
   ],
   "source": [
    "info = [\"age\",\"1: male, 0: female\",\"chest pain type, 1: typical angina, 2: atypical angina, 3: non-anginal pain, 4: asymptomatic\",\"resting blood pressure\",\" serum cholestoral in mg/dl\",\"fasting blood sugar > 120 mg/dl\",\"resting electrocardiographic results (values 0,1,2)\",\" maximum heart rate achieved\",\"exercise induced angina\",\"oldpeak = ST depression induced by exercise relative to rest\",\"the slope of the peak exercise ST segment\",\"number of major vessels (0-3) colored by flourosopy\",\"thal: 3 = normal; 6 = fixed defect; 7 = reversable defect\"]\n",
    "\n",
    "\n",
    "\n",
    "for i in range(len(info)):\n",
    "    print(dataset.columns[i]+\":\\t\\t\\t\"+info[i])\n"
   ]
  },
  {
   "cell_type": "markdown",
   "id": "f427a09b",
   "metadata": {},
   "source": [
    "### Analysing the 'target' variable"
   ]
  },
  {
   "cell_type": "code",
   "execution_count": 24,
   "id": "3fa2862b",
   "metadata": {},
   "outputs": [
    {
     "data": {
      "text/plain": [
       "0      1\n",
       "1      1\n",
       "2      1\n",
       "3      1\n",
       "4      1\n",
       "      ..\n",
       "298    0\n",
       "299    0\n",
       "300    0\n",
       "301    0\n",
       "302    0\n",
       "Name: target, Length: 303, dtype: int64"
      ]
     },
     "execution_count": 24,
     "metadata": {},
     "output_type": "execute_result"
    }
   ],
   "source": [
    "dataset['target']"
   ]
  },
  {
   "cell_type": "markdown",
   "id": "bb91b30f",
   "metadata": {},
   "source": [
    "### Target variable description"
   ]
  },
  {
   "cell_type": "code",
   "execution_count": 25,
   "id": "92d971d6",
   "metadata": {},
   "outputs": [
    {
     "data": {
      "text/plain": [
       "count    303.000000\n",
       "mean       0.544554\n",
       "std        0.498835\n",
       "min        0.000000\n",
       "25%        0.000000\n",
       "50%        1.000000\n",
       "75%        1.000000\n",
       "max        1.000000\n",
       "Name: target, dtype: float64"
      ]
     },
     "execution_count": 25,
     "metadata": {},
     "output_type": "execute_result"
    }
   ],
   "source": [
    "dataset['target'].describe()"
   ]
  },
  {
   "cell_type": "markdown",
   "id": "61633f4b",
   "metadata": {},
   "source": [
    "### Retrieve Unique values of \"target\" column in the dataset"
   ]
  },
  {
   "cell_type": "code",
   "execution_count": 26,
   "id": "f08bbfda",
   "metadata": {},
   "outputs": [
    {
     "data": {
      "text/plain": [
       "array([1, 0], dtype=int64)"
      ]
     },
     "execution_count": 26,
     "metadata": {},
     "output_type": "execute_result"
    }
   ],
   "source": [
    "dataset['target'].unique()"
   ]
  },
  {
   "cell_type": "markdown",
   "id": "9a2e29cc",
   "metadata": {},
   "source": [
    "#### Clearly, this is a classification problem, with the target variable having values '0' and '1'"
   ]
  },
  {
   "cell_type": "markdown",
   "id": "2271b0ac",
   "metadata": {},
   "source": [
    "### What is meant by correlation???"
   ]
  },
  {
   "cell_type": "markdown",
   "id": "ea2d464c",
   "metadata": {},
   "source": [
    "\n",
    "\"\"\" Correlation refers to a statistical measure that quantifies the relationship between two variables. In the context of data analysis, it indicates how changes in one variable are associated with changes in another variable. Correlation values can range from -1 to 1: \n",
    "\n",
    "- A positive correlation (close to 1) suggests that as one variable increases, the other tends to increase as well.\n",
    "- A negative correlation (close to -1) indicates that as one variable increases, the other tends to decrease.\n",
    "- A correlation value close to 0 suggests a weak or no linear relationship between the variables.\n",
    "\n",
    "Correlation is often used to understand the strength and direction of the relationship between variables and is a useful tool in data analysis and feature selection. \"\"\""
   ]
  },
  {
   "cell_type": "markdown",
   "id": "de88ea52",
   "metadata": {},
   "source": [
    "### Correlation between the columns of dataset with target variable - sort decreasing order"
   ]
  },
  {
   "cell_type": "code",
   "execution_count": 31,
   "id": "58c6d4cc",
   "metadata": {},
   "outputs": [
    {
     "data": {
      "text/plain": [
       "target      1.000000\n",
       "exang       0.436757\n",
       "cp          0.433798\n",
       "oldpeak     0.430696\n",
       "thalach     0.421741\n",
       "ca          0.391724\n",
       "slope       0.345877\n",
       "thal        0.344029\n",
       "sex         0.280937\n",
       "age         0.225439\n",
       "trestbps    0.144931\n",
       "restecg     0.137230\n",
       "chol        0.085239\n",
       "fbs         0.028046\n",
       "Name: target, dtype: float64"
      ]
     },
     "execution_count": 31,
     "metadata": {},
     "output_type": "execute_result"
    }
   ],
   "source": [
    "dataset.corr()[\"target\"].abs().sort_values(ascending=False)"
   ]
  },
  {
   "cell_type": "markdown",
   "id": "f5ae6b47",
   "metadata": {},
   "source": [
    "#### This shows that most columns are moderately correlated with target, but 'fbs' is very weakly correlated.\n"
   ]
  },
  {
   "cell_type": "markdown",
   "id": "bb12b155",
   "metadata": {},
   "source": [
    "## Exploratory Data Analysis (EDA)\n",
    "## First, analysing the target variable:"
   ]
  },
  {
   "cell_type": "code",
   "execution_count": 35,
   "id": "d12b2d12",
   "metadata": {},
   "outputs": [],
   "source": [
    "y=dataset['target']"
   ]
  },
  {
   "cell_type": "markdown",
   "id": "b50317f7",
   "metadata": {},
   "source": [
    "### Print target variable"
   ]
  },
  {
   "cell_type": "code",
   "execution_count": 37,
   "id": "cee5a327",
   "metadata": {},
   "outputs": [
    {
     "name": "stdout",
     "output_type": "stream",
     "text": [
      "0      1\n",
      "1      1\n",
      "2      1\n",
      "3      1\n",
      "4      1\n",
      "      ..\n",
      "298    0\n",
      "299    0\n",
      "300    0\n",
      "301    0\n",
      "302    0\n",
      "Name: target, Length: 303, dtype: int64\n"
     ]
    }
   ],
   "source": [
    "print(y)"
   ]
  },
  {
   "cell_type": "markdown",
   "id": "e401e111",
   "metadata": {},
   "source": [
    "### Let's create a bar plot showing the count of each unique value in the \"target\" along the y-axis."
   ]
  },
  {
   "cell_type": "code",
   "execution_count": 44,
   "id": "092f0d41",
   "metadata": {},
   "outputs": [
    {
     "name": "stdout",
     "output_type": "stream",
     "text": [
      "target\n",
      "1    165\n",
      "0    138\n",
      "Name: count, dtype: int64\n"
     ]
    }
   ],
   "source": [
    "target_temp = dataset.target.value_counts()\n",
    "\n",
    "print(target_temp)"
   ]
  },
  {
   "cell_type": "markdown",
   "id": "c1276909",
   "metadata": {},
   "source": [
    "### Distribution of Target Values"
   ]
  },
  {
   "cell_type": "code",
   "execution_count": 57,
   "id": "bb3cc95d",
   "metadata": {},
   "outputs": [
    {
     "data": {
      "image/png": "[encoded data removed]",
      "text/plain": [
       "<Figure size 432x288 with 1 Axes>"
      ]
     },
     "metadata": {
      "needs_background": "light"
     },
     "output_type": "display_data"
    }
   ],
   "source": [
    "target_counts = [target_temp[0], target_temp[1]]\n",
    "target_labels = ['0', '1']\n",
    "\n",
    "# Creating the bar plot\n",
    "sns.barplot(x=target_labels, y=target_counts)\n",
    "\n",
    "# # Adding labels and title\n",
    "plt.xlabel('Target')\n",
    "plt.ylabel('Count')\n",
    "plt.title('Distribution of Target Values')\n",
    "\n",
    "# # Display the plot\n",
    "plt.show()"
   ]
  },
  {
   "cell_type": "markdown",
   "id": "1871bd2f",
   "metadata": {},
   "source": [
    "### Let's get the percentage of target values in the dataset"
   ]
  },
  {
   "cell_type": "code",
   "execution_count": 63,
   "id": "37663d61",
   "metadata": {},
   "outputs": [
    {
     "name": "stdout",
     "output_type": "stream",
     "text": [
      "Total Count of patients :  303\n",
      "Total Count of patients without heart problems :  138\n",
      "Total Count of patients with heart problems :  165\n",
      "Percentage of patients without heart problems: 45.54\n",
      "Percentage of patients with heart problems: 54.46\n"
     ]
    }
   ],
   "source": [
    "total=dataset['target'].count()\n",
    "patients_without_heart_problems=target_temp[0]\n",
    "patients_with_heart_problems=target_temp[1]\n",
    "\n",
    "print(\"Total Count of patients : \",total)\n",
    "print(\"Total Count of patients without heart problems : \",patients_with_no_heart_problems)\n",
    "print(\"Total Count of patients with heart problems : \",patients_with_heart_problems)\n",
    "\n",
    "print(\"Percentage of patients without heart problems: \"+str(round(patients_with_no_heart_problems*100/total,2)))\n",
    "print(\"Percentage of patients with heart problems: \"+str(round(patients_with_heart_problems*100/total,2)))"
   ]
  },
  {
   "cell_type": "markdown",
   "id": "b0ffed7b",
   "metadata": {},
   "source": [
    "## Let's analyse 'sex', 'cp', 'fbs', 'restecg', 'exang', 'slope', 'ca' and 'thal' features\n",
    "## Analyzing the 'sex' feature"
   ]
  },
  {
   "cell_type": "code",
   "execution_count": 64,
   "id": "d8ed131f",
   "metadata": {},
   "outputs": [
    {
     "data": {
      "text/plain": [
       "array([1, 0], dtype=int64)"
      ]
     },
     "execution_count": 64,
     "metadata": {},
     "output_type": "execute_result"
    }
   ],
   "source": [
    "dataset[\"sex\"].unique()"
   ]
  },
  {
   "cell_type": "markdown",
   "id": "106fd0d6",
   "metadata": {},
   "source": [
    "#### As expected, the 'sex' feature has 2 unique features"
   ]
  },
  {
   "cell_type": "code",
   "execution_count": 74,
   "id": "c3523c07",
   "metadata": {},
   "outputs": [
    {
     "data": {
      "image/png": "[encoded data removed]",
      "text/plain": [
       "<Figure size 432x288 with 1 Axes>"
      ]
     },
     "metadata": {
      "needs_background": "light"
     },
     "output_type": "display_data"
    }
   ],
   "source": [
    "sns.barplot(x=dataset[\"sex\"], y=dataset[\"target\"])\n",
    "plt.xlabel('sex')\n",
    "plt.ylabel('target')\n",
    "plt.title('Distribution of Target Values Based on Sex')\n",
    "plt.show()"
   ]
  },
  {
   "cell_type": "code",
   "execution_count": 99,
   "id": "e781cf3b",
   "metadata": {},
   "outputs": [
    {
     "data": {
      "image/png": "[encoded data removed]",
      "text/plain": [
       "<Figure size 432x288 with 1 Axes>"
      ]
     },
     "metadata": {
      "needs_background": "light"
     },
     "output_type": "display_data"
    }
   ],
   "source": [
    "sns.distplot(dataset[\"sex\"])\n",
    "plt.xlabel(\"sex\")\n",
    "plt.ylabel(\"target\")\n",
    "plt.title(\"Distribution of Target values based on sex\")\n",
    "plt.show()"
   ]
  },
  {
   "cell_type": "markdown",
   "id": "9985ac24",
   "metadata": {},
   "source": [
    "#### We know that 0-female , 1-male\n",
    "#### We notice, that females are more likely to have heart problems than males."
   ]
  },
  {
   "cell_type": "markdown",
   "id": "da8d038e",
   "metadata": {},
   "source": [
    "## Analyzing the 'Chest Pain Type' feature"
   ]
  },
  {
   "cell_type": "code",
   "execution_count": 75,
   "id": "031073f3",
   "metadata": {},
   "outputs": [
    {
     "data": {
      "text/plain": [
       "array([3, 2, 1, 0], dtype=int64)"
      ]
     },
     "execution_count": 75,
     "metadata": {},
     "output_type": "execute_result"
    }
   ],
   "source": [
    "dataset[\"cp\"].unique()"
   ]
  },
  {
   "cell_type": "markdown",
   "id": "daac60db",
   "metadata": {},
   "source": [
    "#### \"Chest Pain\" feature has 4 values"
   ]
  },
  {
   "cell_type": "code",
   "execution_count": 76,
   "id": "447b57c2",
   "metadata": {},
   "outputs": [
    {
     "data": {
      "image/png": "[encoded data removed]",
      "text/plain": [
       "<Figure size 432x288 with 1 Axes>"
      ]
     },
     "metadata": {
      "needs_background": "light"
     },
     "output_type": "display_data"
    }
   ],
   "source": [
    "sns.barplot(x=dataset[\"cp\"], y=dataset[\"target\"])\n",
    "plt.xlabel('chest pain')\n",
    "plt.ylabel('target')\n",
    "plt.title('Distribution of Target Values Based on Chest Pain')\n",
    "plt.show()"
   ]
  },
  {
   "cell_type": "code",
   "execution_count": 98,
   "id": "16d7172f",
   "metadata": {},
   "outputs": [
    {
     "data": {
      "image/png": "[encoded data removed]",
      "text/plain": [
       "<Figure size 432x288 with 1 Axes>"
      ]
     },
     "metadata": {
      "needs_background": "light"
     },
     "output_type": "display_data"
    }
   ],
   "source": [
    "sns.distplot(dataset[\"cp\"])\n",
    "plt.xlabel(\"cp\")\n",
    "plt.ylabel(\"target\")\n",
    "plt.title(\"Distribution of Target values based on cp\")\n",
    "plt.show()"
   ]
  },
  {
   "cell_type": "markdown",
   "id": "8aab9b54",
   "metadata": {},
   "source": [
    "#### We notice, that chest pain of '0', i.e. the ones with typical angina are much less likely to have heart problems"
   ]
  },
  {
   "cell_type": "markdown",
   "id": "bc6d85b2",
   "metadata": {},
   "source": [
    "## Analyzing the 'FBS' feature"
   ]
  },
  {
   "cell_type": "code",
   "execution_count": 77,
   "id": "606828ef",
   "metadata": {},
   "outputs": [
    {
     "data": {
      "text/plain": [
       "array([1, 0], dtype=int64)"
      ]
     },
     "execution_count": 77,
     "metadata": {},
     "output_type": "execute_result"
    }
   ],
   "source": [
    "dataset[\"fbs\"].unique()"
   ]
  },
  {
   "cell_type": "code",
   "execution_count": 78,
   "id": "d5a52304",
   "metadata": {},
   "outputs": [
    {
     "data": {
      "image/png": "[encoded data removed]",
      "text/plain": [
       "<Figure size 432x288 with 1 Axes>"
      ]
     },
     "metadata": {
      "needs_background": "light"
     },
     "output_type": "display_data"
    }
   ],
   "source": [
    "sns.barplot(x=dataset[\"fbs\"],y=dataset[\"target\"])\n",
    "plt.xlabel(\"fbs\")\n",
    "plt.ylabel(\"target\")\n",
    "plt.title(\"Distribution of Target values based on fbs\")\n",
    "plt.show()"
   ]
  },
  {
   "cell_type": "code",
   "execution_count": 97,
   "id": "77b0af79",
   "metadata": {},
   "outputs": [
    {
     "data": {
      "image/png": "[encoded data removed]",
      "text/plain": [
       "<Figure size 432x288 with 1 Axes>"
      ]
     },
     "metadata": {
      "needs_background": "light"
     },
     "output_type": "display_data"
    }
   ],
   "source": [
    "sns.distplot(dataset[\"fbs\"])\n",
    "plt.xlabel(\"fbs\")\n",
    "plt.ylabel(\"target\")\n",
    "plt.title(\"Distribution of Target values based on fbs\")\n",
    "plt.show()"
   ]
  },
  {
   "cell_type": "markdown",
   "id": "04c05f0c",
   "metadata": {},
   "source": [
    "#### No Such useful insight here"
   ]
  },
  {
   "cell_type": "markdown",
   "id": "e31aa9a9",
   "metadata": {},
   "source": [
    "## Analyzing the 'restecg' feature"
   ]
  },
  {
   "cell_type": "code",
   "execution_count": 79,
   "id": "4b065d4f",
   "metadata": {},
   "outputs": [
    {
     "data": {
      "text/plain": [
       "array([0, 1, 2], dtype=int64)"
      ]
     },
     "execution_count": 79,
     "metadata": {},
     "output_type": "execute_result"
    }
   ],
   "source": [
    "dataset['restecg'].unique()"
   ]
  },
  {
   "cell_type": "code",
   "execution_count": 81,
   "id": "170253f7",
   "metadata": {},
   "outputs": [
    {
     "data": {
      "image/png": "[encoded data removed]",
      "text/plain": [
       "<Figure size 432x288 with 1 Axes>"
      ]
     },
     "metadata": {
      "needs_background": "light"
     },
     "output_type": "display_data"
    }
   ],
   "source": [
    "sns.barplot(x=dataset[\"restecg\"],y=dataset[\"target\"])\n",
    "plt.xlabel(\"restecg\")\n",
    "plt.ylabel(\"target\")\n",
    "plt.title(\"Distribution of Target values based on restecg\")\n",
    "plt.show()"
   ]
  },
  {
   "cell_type": "code",
   "execution_count": 96,
   "id": "b17f84b1",
   "metadata": {},
   "outputs": [
    {
     "data": {
      "image/png": "[encoded data removed]",
      "text/plain": [
       "<Figure size 432x288 with 1 Axes>"
      ]
     },
     "metadata": {
      "needs_background": "light"
     },
     "output_type": "display_data"
    }
   ],
   "source": [
    "sns.distplot(dataset[\"restecg\"])\n",
    "plt.xlabel(\"restecg\")\n",
    "plt.ylabel(\"target\")\n",
    "plt.title(\"Distribution of Target values based on restecg\")\n",
    "plt.show()"
   ]
  },
  {
   "cell_type": "markdown",
   "id": "bf26ea2c",
   "metadata": {},
   "source": [
    "#### We notice, that people with restecg of '0' and '1' are much more likely to have heart problems"
   ]
  },
  {
   "cell_type": "markdown",
   "id": "327bf78f",
   "metadata": {},
   "source": [
    "## Analyzing the 'exang' feature"
   ]
  },
  {
   "cell_type": "code",
   "execution_count": 82,
   "id": "aa5006c3",
   "metadata": {},
   "outputs": [
    {
     "data": {
      "text/plain": [
       "array([0, 1], dtype=int64)"
      ]
     },
     "execution_count": 82,
     "metadata": {},
     "output_type": "execute_result"
    }
   ],
   "source": [
    "dataset['exang'].unique()"
   ]
  },
  {
   "cell_type": "code",
   "execution_count": 83,
   "id": "e3f48f3f",
   "metadata": {},
   "outputs": [
    {
     "data": {
      "image/png": "[encoded data removed]",
      "text/plain": [
       "<Figure size 432x288 with 1 Axes>"
      ]
     },
     "metadata": {
      "needs_background": "light"
     },
     "output_type": "display_data"
    }
   ],
   "source": [
    "sns.barplot(x=dataset[\"exang\"],y=dataset[\"target\"])\n",
    "plt.xlabel(\"exang\")\n",
    "plt.ylabel(\"target\")\n",
    "plt.title(\"Distribution of Target values based on exang\")\n",
    "plt.show()"
   ]
  },
  {
   "cell_type": "code",
   "execution_count": 105,
   "id": "473da457",
   "metadata": {},
   "outputs": [
    {
     "data": {
      "image/png": "[encoded data removed]",
      "text/plain": [
       "<Figure size 432x288 with 1 Axes>"
      ]
     },
     "metadata": {
      "needs_background": "light"
     },
     "output_type": "display_data"
    }
   ],
   "source": [
    "sns.distplot(dataset[\"exang\"])\n",
    "plt.xlabel(\"exang\")\n",
    "plt.ylabel(\"target\")\n",
    "plt.title(\"Distribution of Target values based on exang\")\n",
    "plt.show()"
   ]
  },
  {
   "cell_type": "markdown",
   "id": "5131725f",
   "metadata": {},
   "source": [
    "#### We notice, that people with exang=01 i.e. Exercise induced angina are much more likely to have heart problems\n",
    "#### People with exang=1 i.e. Exercise induced angina are much less likely to have heart problems"
   ]
  },
  {
   "cell_type": "markdown",
   "id": "c74d16f5",
   "metadata": {},
   "source": [
    "## Analysing the 'ca' feature"
   ]
  },
  {
   "cell_type": "code",
   "execution_count": 85,
   "id": "884950ed",
   "metadata": {},
   "outputs": [
    {
     "data": {
      "text/plain": [
       "array([0, 2, 1, 3, 4], dtype=int64)"
      ]
     },
     "execution_count": 85,
     "metadata": {},
     "output_type": "execute_result"
    }
   ],
   "source": [
    "dataset['ca'].unique()"
   ]
  },
  {
   "cell_type": "code",
   "execution_count": 86,
   "id": "a8d8c298",
   "metadata": {},
   "outputs": [
    {
     "data": {
      "image/png": "[encoded data removed]",
      "text/plain": [
       "<Figure size 432x288 with 1 Axes>"
      ]
     },
     "metadata": {
      "needs_background": "light"
     },
     "output_type": "display_data"
    }
   ],
   "source": [
    "sns.barplot(x=dataset[\"ca\"],y=dataset[\"target\"])\n",
    "plt.xlabel(\"ca\")\n",
    "plt.ylabel(\"target\")\n",
    "plt.title(\"Distribution of Target values based on ca\")\n",
    "plt.show()"
   ]
  },
  {
   "cell_type": "code",
   "execution_count": 94,
   "id": "a54ef08b",
   "metadata": {},
   "outputs": [
    {
     "data": {
      "image/png": "[encoded data removed]",
      "text/plain": [
       "<Figure size 432x288 with 1 Axes>"
      ]
     },
     "metadata": {
      "needs_background": "light"
     },
     "output_type": "display_data"
    }
   ],
   "source": [
    "sns.distplot(dataset[\"ca\"])\n",
    "plt.xlabel(\"ca\")\n",
    "plt.ylabel(\"target\")\n",
    "plt.title(\"Distribution of Target values based on ca\")\n",
    "plt.show()"
   ]
  },
  {
   "cell_type": "markdown",
   "id": "f9cdf2a0",
   "metadata": {},
   "source": [
    "#### ca=4 has significantly large number of heart patients"
   ]
  },
  {
   "cell_type": "markdown",
   "id": "7ce4016d",
   "metadata": {},
   "source": [
    "## Analysing the 'thal' feature"
   ]
  },
  {
   "cell_type": "code",
   "execution_count": 90,
   "id": "9c74ea4d",
   "metadata": {},
   "outputs": [
    {
     "data": {
      "text/plain": [
       "array([1, 2, 3, 0], dtype=int64)"
      ]
     },
     "execution_count": 90,
     "metadata": {},
     "output_type": "execute_result"
    }
   ],
   "source": [
    "dataset['thal'].unique()"
   ]
  },
  {
   "cell_type": "code",
   "execution_count": 92,
   "id": "d9fa11e7",
   "metadata": {},
   "outputs": [
    {
     "data": {
      "image/png": "[encoded data removed]",
      "text/plain": [
       "<Figure size 432x288 with 1 Axes>"
      ]
     },
     "metadata": {
      "needs_background": "light"
     },
     "output_type": "display_data"
    }
   ],
   "source": [
    "sns.barplot(x=dataset[\"thal\"],y=dataset[\"target\"])\n",
    "plt.xlabel(\"thal\")\n",
    "plt.ylabel(\"target\")\n",
    "plt.title(\"Distribution of Target values based on thal\")\n",
    "plt.show()"
   ]
  },
  {
   "cell_type": "code",
   "execution_count": 93,
   "id": "b84ab916",
   "metadata": {},
   "outputs": [
    {
     "data": {
      "image/png": "[encoded data removed]",
      "text/plain": [
       "<Figure size 432x288 with 1 Axes>"
      ]
     },
     "metadata": {
      "needs_background": "light"
     },
     "output_type": "display_data"
    }
   ],
   "source": [
    "sns.distplot(dataset[\"thal\"])\n",
    "plt.xlabel(\"thal\")\n",
    "plt.ylabel(\"target\")\n",
    "plt.title(\"Distribution of Target values based on thal\")\n",
    "plt.show()"
   ]
  },
  {
   "cell_type": "markdown",
   "id": "281b2630",
   "metadata": {},
   "source": [
    "## Train Test Split"
   ]
  },
  {
   "cell_type": "code",
   "execution_count": 106,
   "id": "c01eb74d",
   "metadata": {},
   "outputs": [],
   "source": [
    "from sklearn.model_selection import train_test_split\n",
    "\n",
    "predictors = dataset.drop(\"target\",axis=1)\n",
    "#contains input features - all the columns excpet target variable\n",
    "target = dataset[\"target\"]\n",
    "#contains output variable target column\n",
    "\n",
    "X_train,X_test,Y_train,Y_test = train_test_split(predictors,target,test_size=0.20,random_state=0)"
   ]
  },
  {
   "cell_type": "markdown",
   "id": "47c55cf7",
   "metadata": {},
   "source": [
    "model_selection  - module to split your dataset into training and testing sets for building and evaluating machine learning models\n",
    "\n",
    "model_selection - module, which is used for splitting datasets.\n",
    "\n",
    "This creates two separate DataFrames/arrays: predictors contains the input features (all columns except \"target\"), and target contains the output variable (\"target\" column).\n",
    "\n",
    "train_test_split - This function splits the dataset into training and testing subsets. The parameters are as follows:\n",
    "\n",
    "predictors: Input features (X).\n",
    "target: Output variable (Y).\n",
    "test_size: The proportion of the dataset to include in the test split (here, 20%).\n",
    "random_state: A random seed for reproducibility.\n",
    "\n",
    "These splits are essential for training and evaluating machine learning models to ensure that the model's performance is assessed on unseen data."
   ]
  },
  {
   "cell_type": "code",
   "execution_count": 103,
   "id": "a0581207",
   "metadata": {},
   "outputs": [
    {
     "data": {
      "text/plain": [
       "(242, 13)"
      ]
     },
     "execution_count": 103,
     "metadata": {},
     "output_type": "execute_result"
    }
   ],
   "source": [
    "X_train.shape"
   ]
  },
  {
   "cell_type": "code",
   "execution_count": 107,
   "id": "ab000e4b",
   "metadata": {},
   "outputs": [
    {
     "data": {
      "text/plain": [
       "(61, 13)"
      ]
     },
     "execution_count": 107,
     "metadata": {},
     "output_type": "execute_result"
    }
   ],
   "source": [
    "X_test.shape"
   ]
  },
  {
   "cell_type": "code",
   "execution_count": 108,
   "id": "e068fd79",
   "metadata": {},
   "outputs": [
    {
     "data": {
      "text/plain": [
       "(242,)"
      ]
     },
     "execution_count": 108,
     "metadata": {},
     "output_type": "execute_result"
    }
   ],
   "source": [
    "Y_train.shape"
   ]
  },
  {
   "cell_type": "code",
   "execution_count": 109,
   "id": "18d1a79f",
   "metadata": {},
   "outputs": [
    {
     "data": {
      "text/plain": [
       "(61,)"
      ]
     },
     "execution_count": 109,
     "metadata": {},
     "output_type": "execute_result"
    }
   ],
   "source": [
    "Y_test.shape"
   ]
  },
  {
   "cell_type": "markdown",
   "id": "47244506",
   "metadata": {},
   "source": [
    "## Model Fitting"
   ]
  },
  {
   "cell_type": "code",
   "execution_count": 110,
   "id": "14c401b0",
   "metadata": {},
   "outputs": [],
   "source": [
    "from sklearn.metrics import accuracy_score"
   ]
  },
  {
   "cell_type": "markdown",
   "id": "77cca615",
   "metadata": {},
   "source": [
    "### Logistic Regression"
   ]
  },
  {
   "cell_type": "code",
   "execution_count": 123,
   "id": "a3d34276",
   "metadata": {},
   "outputs": [],
   "source": [
    "from sklearn.linear_model import LogisticRegression\n",
    "#imporing LogisticRegression from sklearn.linear_model\n",
    "\n",
    "lr=LogisticRegression()\n",
    "#create an object fro LogisticRegression\n",
    "\n",
    "lr.fit(X_train,Y_train)\n",
    "#fit training data predictors,target variable into LogisticRegression\n",
    "\n",
    "Y_pred_lr =lr.predict(X_test)\n",
    "#predict the test data using the trained model"
   ]
  },
  {
   "cell_type": "code",
   "execution_count": 112,
   "id": "10f9fc16",
   "metadata": {},
   "outputs": [
    {
     "data": {
      "text/plain": [
       "(61,)"
      ]
     },
     "execution_count": 112,
     "metadata": {},
     "output_type": "execute_result"
    }
   ],
   "source": [
    "Y_pred_lr.shape"
   ]
  },
  {
   "cell_type": "code",
   "execution_count": 113,
   "id": "9f409e6d",
   "metadata": {},
   "outputs": [
    {
     "data": {
      "text/plain": [
       "array([0, 1, 1, 0, 0, 0, 0, 0, 0, 0, 1, 1, 0, 1, 1, 1, 0, 1, 0, 1, 1, 0,\n",
       "       0, 0, 1, 0, 0, 0, 1, 1, 1, 0, 1, 1, 1, 1, 0, 1, 0, 0, 1, 1, 0, 0,\n",
       "       0, 1, 1, 1, 0, 1, 1, 1, 1, 1, 1, 0, 1, 1, 1, 1, 1], dtype=int64)"
      ]
     },
     "execution_count": 113,
     "metadata": {},
     "output_type": "execute_result"
    }
   ],
   "source": [
    "Y_pred_lr"
   ]
  },
  {
   "cell_type": "code",
   "execution_count": 114,
   "id": "8ed8c22e",
   "metadata": {},
   "outputs": [
    {
     "data": {
      "text/plain": [
       "(61,)"
      ]
     },
     "execution_count": 114,
     "metadata": {},
     "output_type": "execute_result"
    }
   ],
   "source": [
    "Y_test.shape"
   ]
  },
  {
   "cell_type": "code",
   "execution_count": 118,
   "id": "5368b2cf",
   "metadata": {},
   "outputs": [
    {
     "data": {
      "text/plain": [
       "225    0\n",
       "152    1\n",
       "228    0\n",
       "201    0\n",
       "52     1\n",
       "      ..\n",
       "146    1\n",
       "302    0\n",
       "26     1\n",
       "108    1\n",
       "89     1\n",
       "Name: target, Length: 61, dtype: int64"
      ]
     },
     "execution_count": 118,
     "metadata": {},
     "output_type": "execute_result"
    }
   ],
   "source": [
    "Y_test"
   ]
  },
  {
   "cell_type": "code",
   "execution_count": 122,
   "id": "43b816f5",
   "metadata": {},
   "outputs": [
    {
     "name": "stdout",
     "output_type": "stream",
     "text": [
      "The accuracy score achieved using LogisticRegression is: 85.25 %\n"
     ]
    }
   ],
   "source": [
    "score_lr=round(accuracy_score(Y_pred_lr,Y_test)*100,2)\n",
    "#Accuracy = (Number of Correct Predictions) / (Total Number of Predictions\n",
    "print(\"The accuracy score achieved using LogisticRegression is: \"+str(score_lr)+\" %\")"
   ]
  },
  {
   "cell_type": "markdown",
   "id": "a829528e",
   "metadata": {},
   "source": [
    "### Naive Bayes"
   ]
  },
  {
   "cell_type": "code",
   "execution_count": 126,
   "id": "4acf84fc",
   "metadata": {},
   "outputs": [],
   "source": [
    "from sklearn.naive_bayes import GaussianNB\n",
    "\n",
    "nb = GaussianNB()\n",
    "\n",
    "nb.fit(X_train,Y_train)\n",
    "\n",
    "Y_pred_nb = nb.predict(X_test)"
   ]
  },
  {
   "cell_type": "code",
   "execution_count": 127,
   "id": "0da9e425",
   "metadata": {},
   "outputs": [
    {
     "data": {
      "text/plain": [
       "(61,)"
      ]
     },
     "execution_count": 127,
     "metadata": {},
     "output_type": "execute_result"
    }
   ],
   "source": [
    "Y_pred_nb.shape"
   ]
  },
  {
   "cell_type": "code",
   "execution_count": 128,
   "id": "b3b5f275",
   "metadata": {},
   "outputs": [
    {
     "data": {
      "text/plain": [
       "array([0, 1, 1, 0, 0, 1, 0, 0, 0, 0, 1, 1, 0, 1, 1, 1, 0, 1, 0, 1, 1, 1,\n",
       "       0, 0, 1, 0, 0, 1, 1, 1, 0, 0, 1, 1, 1, 0, 0, 1, 0, 0, 1, 1, 0, 0,\n",
       "       1, 1, 1, 1, 0, 1, 1, 1, 1, 1, 1, 0, 1, 1, 1, 1, 1], dtype=int64)"
      ]
     },
     "execution_count": 128,
     "metadata": {},
     "output_type": "execute_result"
    }
   ],
   "source": [
    "Y_pred_nb"
   ]
  },
  {
   "cell_type": "code",
   "execution_count": 130,
   "id": "00bc2b76",
   "metadata": {},
   "outputs": [
    {
     "name": "stdout",
     "output_type": "stream",
     "text": [
      "The accuracy score achieved using Naive Bayes is: 85.25 %\n"
     ]
    }
   ],
   "source": [
    "score_nb=round(accuracy_score(Y_pred_nb,Y_test)*100,2)\n",
    "\n",
    "print(\"The accuracy score achieved using Naive Bayes is: \"+str(score_nb)+\" %\")"
   ]
  },
  {
   "cell_type": "markdown",
   "id": "9f8c1f2c",
   "metadata": {},
   "source": [
    "## SVM"
   ]
  },
  {
   "cell_type": "code",
   "execution_count": 132,
   "id": "92946779",
   "metadata": {},
   "outputs": [],
   "source": [
    "from sklearn import svm\n",
    "\n",
    "sv = svm.SVC(kernel='linear')\n",
    "\n",
    "sv.fit(X_train, Y_train)\n",
    "\n",
    "Y_pred_svm = sv.predict(X_test)"
   ]
  },
  {
   "cell_type": "code",
   "execution_count": 133,
   "id": "a35e092d",
   "metadata": {},
   "outputs": [
    {
     "data": {
      "text/plain": [
       "(61,)"
      ]
     },
     "execution_count": 133,
     "metadata": {},
     "output_type": "execute_result"
    }
   ],
   "source": [
    "Y_pred_svm.shape"
   ]
  },
  {
   "cell_type": "code",
   "execution_count": 134,
   "id": "e44ddbf0",
   "metadata": {},
   "outputs": [
    {
     "data": {
      "text/plain": [
       "array([0, 1, 1, 0, 0, 1, 0, 0, 0, 0, 1, 1, 0, 1, 1, 1, 0, 1, 0, 1, 1, 0,\n",
       "       0, 0, 1, 1, 0, 0, 1, 1, 1, 0, 1, 1, 1, 1, 0, 1, 0, 0, 1, 1, 0, 0,\n",
       "       0, 1, 1, 1, 0, 1, 1, 1, 1, 1, 1, 0, 1, 1, 1, 1, 1], dtype=int64)"
      ]
     },
     "execution_count": 134,
     "metadata": {},
     "output_type": "execute_result"
    }
   ],
   "source": [
    "Y_pred_svm"
   ]
  },
  {
   "cell_type": "code",
   "execution_count": 170,
   "id": "443a5b72",
   "metadata": {},
   "outputs": [
    {
     "name": "stdout",
     "output_type": "stream",
     "text": [
      "The accuracy score achieved using Naive Bayes is: 85.25 %\n"
     ]
    }
   ],
   "source": [
    "score_svm = round(accuracy_score(Y_pred_nb,Y_test)*100,2)\n",
    "\n",
    "print(\"The accuracy score achieved using Naive Bayes is: \"+str(score_nb)+\" %\")"
   ]
  },
  {
   "cell_type": "markdown",
   "id": "32256c23",
   "metadata": {},
   "source": [
    "## K Nearest Neighbours"
   ]
  },
  {
   "cell_type": "code",
   "execution_count": 135,
   "id": "a32467fb",
   "metadata": {},
   "outputs": [],
   "source": [
    "from sklearn.neighbors import KNeighborsClassifier\n",
    "\n",
    "knn = KNeighborsClassifier(n_neighbors=7)\n",
    "knn.fit(X_train,Y_train)\n",
    "Y_pred_knn=knn.predict(X_test)"
   ]
  },
  {
   "cell_type": "code",
   "execution_count": 137,
   "id": "e8a7d94c",
   "metadata": {},
   "outputs": [
    {
     "data": {
      "text/plain": [
       "(61,)"
      ]
     },
     "execution_count": 137,
     "metadata": {},
     "output_type": "execute_result"
    }
   ],
   "source": [
    "Y_pred_knn.shape"
   ]
  },
  {
   "cell_type": "code",
   "execution_count": 138,
   "id": "cfeae1ac",
   "metadata": {},
   "outputs": [
    {
     "name": "stdout",
     "output_type": "stream",
     "text": [
      "The accuracy score achieved using KNN is: 67.21 %\n"
     ]
    }
   ],
   "source": [
    "score_knn = round(accuracy_score(Y_pred_knn,Y_test)*100,2)\n",
    "\n",
    "print(\"The accuracy score achieved using KNN is: \"+str(score_knn)+\" %\")"
   ]
  },
  {
   "cell_type": "markdown",
   "id": "b009e4fb",
   "metadata": {},
   "source": [
    "## Decision Tree"
   ]
  },
  {
   "cell_type": "code",
   "execution_count": 144,
   "id": "23a27b4a",
   "metadata": {},
   "outputs": [],
   "source": [
    "from sklearn.tree import DecisionTreeClassifier\n",
    "\n",
    "max_accuracy = 0\n",
    "\n",
    "\n",
    "for x in range(200):\n",
    "    dt = DecisionTreeClassifier(random_state=x)\n",
    "    dt.fit(X_train,Y_train)\n",
    "    Y_pred_dt = dt.predict(X_test)\n",
    "    current_accuracy = round(accuracy_score(Y_pred_dt,Y_test)*100,2)\n",
    "    if(current_accuracy>max_accuracy):\n",
    "        max_accuracy = current_accuracy\n",
    "        best_x = x\n",
    "\n",
    "dt = DecisionTreeClassifier(random_state=best_x)\n",
    "dt.fit(X_train,Y_train)\n",
    "Y_pred_dt = dt.predict(X_test)"
   ]
  },
  {
   "cell_type": "code",
   "execution_count": 142,
   "id": "0f9792e0",
   "metadata": {},
   "outputs": [
    {
     "data": {
      "text/plain": [
       "(61,)"
      ]
     },
     "execution_count": 142,
     "metadata": {},
     "output_type": "execute_result"
    }
   ],
   "source": [
    "Y_pred_dt.shape"
   ]
  },
  {
   "cell_type": "code",
   "execution_count": 143,
   "id": "9d3558a5",
   "metadata": {},
   "outputs": [
    {
     "name": "stdout",
     "output_type": "stream",
     "text": [
      "The accuracy score achieved using Decision Tree is: 81.97 %\n"
     ]
    }
   ],
   "source": [
    "score_dt = round(accuracy_score(Y_pred_dt,Y_test)*100,2)\n",
    "\n",
    "print(\"The accuracy score achieved using Decision Tree is: \"+str(score_dt)+\" %\")"
   ]
  },
  {
   "cell_type": "markdown",
   "id": "027d312f",
   "metadata": {},
   "source": [
    "## Random Forest"
   ]
  },
  {
   "cell_type": "code",
   "execution_count": 145,
   "id": "03f7e6f0",
   "metadata": {},
   "outputs": [],
   "source": [
    "from sklearn.ensemble import RandomForestClassifier\n",
    "\n",
    "max_accuracy = 0\n",
    "\n",
    "\n",
    "for x in range(2000):\n",
    "    rf = RandomForestClassifier(random_state=x)\n",
    "    rf.fit(X_train,Y_train)\n",
    "    Y_pred_rf = rf.predict(X_test)\n",
    "    current_accuracy = round(accuracy_score(Y_pred_rf,Y_test)*100,2)\n",
    "    if(current_accuracy>max_accuracy):\n",
    "        max_accuracy = current_accuracy\n",
    "        best_x = x\n",
    "\n",
    "rf = RandomForestClassifier(random_state=best_x)\n",
    "rf.fit(X_train,Y_train)\n",
    "Y_pred_rf = rf.predict(X_test)"
   ]
  },
  {
   "cell_type": "code",
   "execution_count": 146,
   "id": "234444e6",
   "metadata": {},
   "outputs": [
    {
     "data": {
      "text/plain": [
       "(61,)"
      ]
     },
     "execution_count": 146,
     "metadata": {},
     "output_type": "execute_result"
    }
   ],
   "source": [
    "Y_pred_rf.shape"
   ]
  },
  {
   "cell_type": "code",
   "execution_count": 151,
   "id": "6f115ae4",
   "metadata": {},
   "outputs": [
    {
     "name": "stdout",
     "output_type": "stream",
     "text": [
      "The accuracy score achieved using Decision Tree is: 90.16 %\n"
     ]
    }
   ],
   "source": [
    "score_rf = round(accuracy_score(Y_pred_rf,Y_test)*100,2)\n",
    "\n",
    "print(\"The accuracy score achieved using Decision Tree is: \"+str(score_rf)+\" %\")"
   ]
  },
  {
   "cell_type": "markdown",
   "id": "13390453",
   "metadata": {},
   "source": [
    "## XGBoost"
   ]
  },
  {
   "cell_type": "code",
   "execution_count": 155,
   "id": "4a2a1cb2",
   "metadata": {},
   "outputs": [],
   "source": [
    "import xgboost as xgb\n",
    "\n",
    "xgb_model = xgb.XGBClassifier(objective=\"binary:logistic\", random_state=42)\n",
    "xgb_model.fit(X_train, Y_train)\n",
    "\n",
    "Y_pred_xgb = xgb_model.predict(X_test)"
   ]
  },
  {
   "cell_type": "code",
   "execution_count": 156,
   "id": "c1aa8e92",
   "metadata": {},
   "outputs": [
    {
     "data": {
      "text/plain": [
       "(61,)"
      ]
     },
     "execution_count": 156,
     "metadata": {},
     "output_type": "execute_result"
    }
   ],
   "source": [
    "Y_pred_xgb.shape"
   ]
  },
  {
   "cell_type": "code",
   "execution_count": 157,
   "id": "1156a61e",
   "metadata": {},
   "outputs": [
    {
     "name": "stdout",
     "output_type": "stream",
     "text": [
      "The accuracy score achieved using XGBoost is: 78.69 %\n"
     ]
    }
   ],
   "source": [
    "score_xgb = round(accuracy_score(Y_pred_xgb,Y_test)*100,2)\n",
    "\n",
    "print(\"The accuracy score achieved using XGBoost is: \"+str(score_xgb)+\" %\")"
   ]
  },
  {
   "cell_type": "markdown",
   "id": "7ac15ae5",
   "metadata": {},
   "source": [
    "## Neural Network"
   ]
  },
  {
   "cell_type": "code",
   "execution_count": 162,
   "id": "84b98e20",
   "metadata": {},
   "outputs": [],
   "source": [
    "from keras.models import Sequential\n",
    "from keras.layers import Dense"
   ]
  },
  {
   "cell_type": "code",
   "execution_count": 163,
   "id": "56fdeb6d",
   "metadata": {},
   "outputs": [],
   "source": [
    "model = Sequential()\n",
    "model.add(Dense(11,activation='relu',input_dim=13))\n",
    "model.add(Dense(1,activation='sigmoid'))\n",
    "\n",
    "model.compile(loss='binary_crossentropy',optimizer='adam',metrics=['accuracy'])"
   ]
  },
  {
   "cell_type": "code",
   "execution_count": 164,
   "id": "165b399d",
   "metadata": {},
   "outputs": [
    {
     "name": "stdout",
     "output_type": "stream",
     "text": [
      "Epoch 1/300\n",
      "8/8 [==============================] - 1s 6ms/step - loss: 27.8248 - accuracy: 0.5413\n",
      "Epoch 2/300\n",
      "8/8 [==============================] - 0s 5ms/step - loss: 23.5368 - accuracy: 0.5413\n",
      "Epoch 3/300\n",
      "8/8 [==============================] - 0s 5ms/step - loss: 19.1309 - accuracy: 0.5413\n",
      "Epoch 4/300\n",
      "8/8 [==============================] - 0s 5ms/step - loss: 14.5196 - accuracy: 0.5372\n",
      "Epoch 5/300\n",
      "8/8 [==============================] - 0s 5ms/step - loss: 9.7494 - accuracy: 0.5744\n",
      "Epoch 6/300\n",
      "8/8 [==============================] - 0s 5ms/step - loss: 6.0450 - accuracy: 0.6033\n",
      "Epoch 7/300\n",
      "8/8 [==============================] - 0s 5ms/step - loss: 4.0270 - accuracy: 0.5909\n",
      "Epoch 8/300\n",
      "8/8 [==============================] - 0s 6ms/step - loss: 3.6710 - accuracy: 0.6198\n",
      "Epoch 9/300\n",
      "8/8 [==============================] - 0s 5ms/step - loss: 3.8109 - accuracy: 0.6198\n",
      "Epoch 10/300\n",
      "8/8 [==============================] - 0s 5ms/step - loss: 3.7278 - accuracy: 0.6198\n",
      "Epoch 11/300\n",
      "8/8 [==============================] - 0s 6ms/step - loss: 3.6295 - accuracy: 0.6157\n",
      "Epoch 12/300\n",
      "8/8 [==============================] - 0s 5ms/step - loss: 3.5790 - accuracy: 0.6033\n",
      "Epoch 13/300\n",
      "8/8 [==============================] - 0s 4ms/step - loss: 3.5600 - accuracy: 0.5909\n",
      "Epoch 14/300\n",
      "8/8 [==============================] - 0s 5ms/step - loss: 3.5067 - accuracy: 0.5992\n",
      "Epoch 15/300\n",
      "8/8 [==============================] - 0s 5ms/step - loss: 3.4545 - accuracy: 0.6074\n",
      "Epoch 16/300\n",
      "8/8 [==============================] - 0s 5ms/step - loss: 3.4247 - accuracy: 0.6033\n",
      "Epoch 17/300\n",
      "8/8 [==============================] - 0s 5ms/step - loss: 3.3539 - accuracy: 0.6116\n",
      "Epoch 18/300\n",
      "8/8 [==============================] - 0s 5ms/step - loss: 3.3236 - accuracy: 0.5992\n",
      "Epoch 19/300\n",
      "8/8 [==============================] - 0s 5ms/step - loss: 3.2832 - accuracy: 0.6074\n",
      "Epoch 20/300\n",
      "8/8 [==============================] - 0s 6ms/step - loss: 3.2280 - accuracy: 0.6033\n",
      "Epoch 21/300\n",
      "8/8 [==============================] - 0s 10ms/step - loss: 3.1811 - accuracy: 0.6033\n",
      "Epoch 22/300\n",
      "8/8 [==============================] - 0s 6ms/step - loss: 3.1745 - accuracy: 0.6116\n",
      "Epoch 23/300\n",
      "8/8 [==============================] - 0s 5ms/step - loss: 3.0975 - accuracy: 0.5992\n",
      "Epoch 24/300\n",
      "8/8 [==============================] - 0s 5ms/step - loss: 3.0521 - accuracy: 0.6074\n",
      "Epoch 25/300\n",
      "8/8 [==============================] - 0s 7ms/step - loss: 3.0006 - accuracy: 0.6116\n",
      "Epoch 26/300\n",
      "8/8 [==============================] - 0s 11ms/step - loss: 2.9584 - accuracy: 0.6116\n",
      "Epoch 27/300\n",
      "8/8 [==============================] - 0s 9ms/step - loss: 2.9743 - accuracy: 0.6157\n",
      "Epoch 28/300\n",
      "8/8 [==============================] - 0s 7ms/step - loss: 2.8708 - accuracy: 0.6322\n",
      "Epoch 29/300\n",
      "8/8 [==============================] - 0s 8ms/step - loss: 2.8191 - accuracy: 0.6281\n",
      "Epoch 30/300\n",
      "8/8 [==============================] - 0s 7ms/step - loss: 2.7800 - accuracy: 0.6240\n",
      "Epoch 31/300\n",
      "8/8 [==============================] - 0s 6ms/step - loss: 2.7327 - accuracy: 0.6281\n",
      "Epoch 32/300\n",
      "8/8 [==============================] - 0s 7ms/step - loss: 2.6856 - accuracy: 0.6281\n",
      "Epoch 33/300\n",
      "8/8 [==============================] - 0s 6ms/step - loss: 2.6407 - accuracy: 0.6364\n",
      "Epoch 34/300\n",
      "8/8 [==============================] - 0s 6ms/step - loss: 2.5999 - accuracy: 0.6322\n",
      "Epoch 35/300\n",
      "8/8 [==============================] - 0s 7ms/step - loss: 2.5521 - accuracy: 0.6322\n",
      "Epoch 36/300\n",
      "8/8 [==============================] - 0s 7ms/step - loss: 2.5046 - accuracy: 0.6364\n",
      "Epoch 37/300\n",
      "8/8 [==============================] - 0s 6ms/step - loss: 2.4612 - accuracy: 0.6488\n",
      "Epoch 38/300\n",
      "8/8 [==============================] - 0s 5ms/step - loss: 2.4136 - accuracy: 0.6529\n",
      "Epoch 39/300\n",
      "8/8 [==============================] - 0s 6ms/step - loss: 2.3761 - accuracy: 0.6529\n",
      "Epoch 40/300\n",
      "8/8 [==============================] - 0s 6ms/step - loss: 2.3331 - accuracy: 0.6612\n",
      "Epoch 41/300\n",
      "8/8 [==============================] - 0s 7ms/step - loss: 2.2864 - accuracy: 0.6570\n",
      "Epoch 42/300\n",
      "8/8 [==============================] - 0s 6ms/step - loss: 2.2443 - accuracy: 0.6612\n",
      "Epoch 43/300\n",
      "8/8 [==============================] - 0s 6ms/step - loss: 2.2020 - accuracy: 0.6653\n",
      "Epoch 44/300\n",
      "8/8 [==============================] - 0s 5ms/step - loss: 2.1669 - accuracy: 0.6694\n",
      "Epoch 45/300\n",
      "8/8 [==============================] - 0s 5ms/step - loss: 2.1660 - accuracy: 0.6653\n",
      "Epoch 46/300\n",
      "8/8 [==============================] - 0s 6ms/step - loss: 2.0779 - accuracy: 0.6694\n",
      "Epoch 47/300\n",
      "8/8 [==============================] - 0s 5ms/step - loss: 2.0485 - accuracy: 0.6777\n",
      "Epoch 48/300\n",
      "8/8 [==============================] - 0s 5ms/step - loss: 2.0378 - accuracy: 0.6694\n",
      "Epoch 49/300\n",
      "8/8 [==============================] - 0s 5ms/step - loss: 1.9803 - accuracy: 0.6860\n",
      "Epoch 50/300\n",
      "8/8 [==============================] - 0s 5ms/step - loss: 1.9370 - accuracy: 0.6777\n",
      "Epoch 51/300\n",
      "8/8 [==============================] - 0s 6ms/step - loss: 1.9043 - accuracy: 0.6736\n",
      "Epoch 52/300\n",
      "8/8 [==============================] - 0s 6ms/step - loss: 1.8609 - accuracy: 0.6901\n",
      "Epoch 53/300\n",
      "8/8 [==============================] - 0s 5ms/step - loss: 1.8263 - accuracy: 0.6860\n",
      "Epoch 54/300\n",
      "8/8 [==============================] - 0s 5ms/step - loss: 1.7954 - accuracy: 0.6818\n",
      "Epoch 55/300\n",
      "8/8 [==============================] - 0s 5ms/step - loss: 1.7583 - accuracy: 0.6860\n",
      "Epoch 56/300\n",
      "8/8 [==============================] - 0s 5ms/step - loss: 1.7315 - accuracy: 0.6860\n",
      "Epoch 57/300\n",
      "8/8 [==============================] - 0s 5ms/step - loss: 1.6985 - accuracy: 0.6901\n",
      "Epoch 58/300\n",
      "8/8 [==============================] - 0s 5ms/step - loss: 1.6595 - accuracy: 0.6901\n",
      "Epoch 59/300\n",
      "8/8 [==============================] - 0s 5ms/step - loss: 1.6395 - accuracy: 0.6901\n",
      "Epoch 60/300\n",
      "8/8 [==============================] - 0s 5ms/step - loss: 1.6028 - accuracy: 0.6942\n",
      "Epoch 61/300\n",
      "8/8 [==============================] - 0s 5ms/step - loss: 1.5832 - accuracy: 0.6901\n",
      "Epoch 62/300\n",
      "8/8 [==============================] - 0s 5ms/step - loss: 1.5491 - accuracy: 0.6983\n",
      "Epoch 63/300\n",
      "8/8 [==============================] - 0s 6ms/step - loss: 1.5240 - accuracy: 0.6901\n",
      "Epoch 64/300\n",
      "8/8 [==============================] - 0s 5ms/step - loss: 1.5089 - accuracy: 0.7025\n",
      "Epoch 65/300\n",
      "8/8 [==============================] - 0s 6ms/step - loss: 1.4698 - accuracy: 0.7025\n",
      "Epoch 66/300\n",
      "8/8 [==============================] - 0s 8ms/step - loss: 1.4417 - accuracy: 0.7066\n",
      "Epoch 67/300\n",
      "8/8 [==============================] - 0s 6ms/step - loss: 1.4294 - accuracy: 0.7025\n",
      "Epoch 68/300\n",
      "8/8 [==============================] - 0s 6ms/step - loss: 1.3928 - accuracy: 0.6983\n",
      "Epoch 69/300\n",
      "8/8 [==============================] - 0s 6ms/step - loss: 1.3687 - accuracy: 0.7066\n",
      "Epoch 70/300\n",
      "8/8 [==============================] - 0s 5ms/step - loss: 1.3417 - accuracy: 0.7066\n",
      "Epoch 71/300\n",
      "8/8 [==============================] - 0s 5ms/step - loss: 1.3173 - accuracy: 0.7066\n",
      "Epoch 72/300\n",
      "8/8 [==============================] - 0s 5ms/step - loss: 1.2912 - accuracy: 0.7066\n",
      "Epoch 73/300\n",
      "8/8 [==============================] - 0s 5ms/step - loss: 1.2678 - accuracy: 0.7107\n",
      "Epoch 74/300\n",
      "8/8 [==============================] - 0s 6ms/step - loss: 1.2432 - accuracy: 0.7149\n",
      "Epoch 75/300\n",
      "8/8 [==============================] - 0s 5ms/step - loss: 1.2267 - accuracy: 0.7107\n",
      "Epoch 76/300\n",
      "8/8 [==============================] - 0s 10ms/step - loss: 1.2003 - accuracy: 0.7149\n",
      "Epoch 77/300\n",
      "8/8 [==============================] - 0s 5ms/step - loss: 1.1965 - accuracy: 0.7231\n",
      "Epoch 78/300\n",
      "8/8 [==============================] - 0s 5ms/step - loss: 1.1651 - accuracy: 0.7107\n",
      "Epoch 79/300\n",
      "8/8 [==============================] - 0s 6ms/step - loss: 1.1405 - accuracy: 0.7273\n",
      "Epoch 80/300\n",
      "8/8 [==============================] - 0s 6ms/step - loss: 1.1154 - accuracy: 0.7231\n",
      "Epoch 81/300\n",
      "8/8 [==============================] - 0s 6ms/step - loss: 1.1157 - accuracy: 0.7149\n",
      "Epoch 82/300\n",
      "8/8 [==============================] - 0s 6ms/step - loss: 1.0833 - accuracy: 0.7190\n",
      "Epoch 83/300\n",
      "8/8 [==============================] - 0s 6ms/step - loss: 1.0629 - accuracy: 0.7107\n",
      "Epoch 84/300\n"
     ]
    },
    {
     "name": "stdout",
     "output_type": "stream",
     "text": [
      "8/8 [==============================] - 0s 6ms/step - loss: 1.0462 - accuracy: 0.7273\n",
      "Epoch 85/300\n",
      "8/8 [==============================] - 0s 5ms/step - loss: 1.0321 - accuracy: 0.7107\n",
      "Epoch 86/300\n",
      "8/8 [==============================] - 0s 5ms/step - loss: 1.0195 - accuracy: 0.7231\n",
      "Epoch 87/300\n",
      "8/8 [==============================] - 0s 6ms/step - loss: 0.9825 - accuracy: 0.7273\n",
      "Epoch 88/300\n",
      "8/8 [==============================] - 0s 6ms/step - loss: 0.9771 - accuracy: 0.7107\n",
      "Epoch 89/300\n",
      "8/8 [==============================] - 0s 5ms/step - loss: 0.9641 - accuracy: 0.7314\n",
      "Epoch 90/300\n",
      "8/8 [==============================] - 0s 6ms/step - loss: 0.9394 - accuracy: 0.7273\n",
      "Epoch 91/300\n",
      "8/8 [==============================] - 0s 5ms/step - loss: 0.9162 - accuracy: 0.7107\n",
      "Epoch 92/300\n",
      "8/8 [==============================] - 0s 6ms/step - loss: 0.9168 - accuracy: 0.7314\n",
      "Epoch 93/300\n",
      "8/8 [==============================] - 0s 5ms/step - loss: 0.8933 - accuracy: 0.7190\n",
      "Epoch 94/300\n",
      "8/8 [==============================] - 0s 5ms/step - loss: 0.8755 - accuracy: 0.7107\n",
      "Epoch 95/300\n",
      "8/8 [==============================] - 0s 5ms/step - loss: 0.8561 - accuracy: 0.7231\n",
      "Epoch 96/300\n",
      "8/8 [==============================] - 0s 5ms/step - loss: 0.8439 - accuracy: 0.7314\n",
      "Epoch 97/300\n",
      "8/8 [==============================] - 0s 5ms/step - loss: 0.8264 - accuracy: 0.7107\n",
      "Epoch 98/300\n",
      "8/8 [==============================] - 0s 5ms/step - loss: 0.8154 - accuracy: 0.7190\n",
      "Epoch 99/300\n",
      "8/8 [==============================] - 0s 6ms/step - loss: 0.8027 - accuracy: 0.7273\n",
      "Epoch 100/300\n",
      "8/8 [==============================] - 0s 5ms/step - loss: 0.8015 - accuracy: 0.7397\n",
      "Epoch 101/300\n",
      "8/8 [==============================] - 0s 6ms/step - loss: 0.7779 - accuracy: 0.7231\n",
      "Epoch 102/300\n",
      "8/8 [==============================] - 0s 5ms/step - loss: 0.7690 - accuracy: 0.7231\n",
      "Epoch 103/300\n",
      "8/8 [==============================] - 0s 5ms/step - loss: 0.7704 - accuracy: 0.7231\n",
      "Epoch 104/300\n",
      "8/8 [==============================] - 0s 5ms/step - loss: 0.7548 - accuracy: 0.7314\n",
      "Epoch 105/300\n",
      "8/8 [==============================] - 0s 5ms/step - loss: 0.7375 - accuracy: 0.7397\n",
      "Epoch 106/300\n",
      "8/8 [==============================] - 0s 5ms/step - loss: 0.7177 - accuracy: 0.7397\n",
      "Epoch 107/300\n",
      "8/8 [==============================] - 0s 5ms/step - loss: 0.7184 - accuracy: 0.7355\n",
      "Epoch 108/300\n",
      "8/8 [==============================] - 0s 5ms/step - loss: 0.7006 - accuracy: 0.7355\n",
      "Epoch 109/300\n",
      "8/8 [==============================] - 0s 6ms/step - loss: 0.6879 - accuracy: 0.7355\n",
      "Epoch 110/300\n",
      "8/8 [==============================] - 0s 6ms/step - loss: 0.6966 - accuracy: 0.7355\n",
      "Epoch 111/300\n",
      "8/8 [==============================] - 0s 7ms/step - loss: 0.6671 - accuracy: 0.7521\n",
      "Epoch 112/300\n",
      "8/8 [==============================] - 0s 6ms/step - loss: 0.6642 - accuracy: 0.7273\n",
      "Epoch 113/300\n",
      "8/8 [==============================] - 0s 5ms/step - loss: 0.6552 - accuracy: 0.7397\n",
      "Epoch 114/300\n",
      "8/8 [==============================] - 0s 5ms/step - loss: 0.6367 - accuracy: 0.7397\n",
      "Epoch 115/300\n",
      "8/8 [==============================] - 0s 5ms/step - loss: 0.6433 - accuracy: 0.7562\n",
      "Epoch 116/300\n",
      "8/8 [==============================] - 0s 6ms/step - loss: 0.6221 - accuracy: 0.7397\n",
      "Epoch 117/300\n",
      "8/8 [==============================] - 0s 5ms/step - loss: 0.6156 - accuracy: 0.7521\n",
      "Epoch 118/300\n",
      "8/8 [==============================] - 0s 5ms/step - loss: 0.5990 - accuracy: 0.7479\n",
      "Epoch 119/300\n",
      "8/8 [==============================] - 0s 6ms/step - loss: 0.5899 - accuracy: 0.7521\n",
      "Epoch 120/300\n",
      "8/8 [==============================] - 0s 5ms/step - loss: 0.5790 - accuracy: 0.7521\n",
      "Epoch 121/300\n",
      "8/8 [==============================] - 0s 5ms/step - loss: 0.5800 - accuracy: 0.7438\n",
      "Epoch 122/300\n",
      "8/8 [==============================] - 0s 5ms/step - loss: 0.5741 - accuracy: 0.7645\n",
      "Epoch 123/300\n",
      "8/8 [==============================] - 0s 5ms/step - loss: 0.5642 - accuracy: 0.7479\n",
      "Epoch 124/300\n",
      "8/8 [==============================] - 0s 6ms/step - loss: 0.5541 - accuracy: 0.7521\n",
      "Epoch 125/300\n",
      "8/8 [==============================] - 0s 5ms/step - loss: 0.5578 - accuracy: 0.7686\n",
      "Epoch 126/300\n",
      "8/8 [==============================] - 0s 6ms/step - loss: 0.5512 - accuracy: 0.7479\n",
      "Epoch 127/300\n",
      "8/8 [==============================] - 0s 5ms/step - loss: 0.5486 - accuracy: 0.7479\n",
      "Epoch 128/300\n",
      "8/8 [==============================] - 0s 6ms/step - loss: 0.5262 - accuracy: 0.7727\n",
      "Epoch 129/300\n",
      "8/8 [==============================] - 0s 6ms/step - loss: 0.5233 - accuracy: 0.7603\n",
      "Epoch 130/300\n",
      "8/8 [==============================] - 0s 5ms/step - loss: 0.5172 - accuracy: 0.7521\n",
      "Epoch 131/300\n",
      "8/8 [==============================] - 0s 6ms/step - loss: 0.5145 - accuracy: 0.7686\n",
      "Epoch 132/300\n",
      "8/8 [==============================] - 0s 6ms/step - loss: 0.5079 - accuracy: 0.7686\n",
      "Epoch 133/300\n",
      "8/8 [==============================] - 0s 6ms/step - loss: 0.5107 - accuracy: 0.7686\n",
      "Epoch 134/300\n",
      "8/8 [==============================] - 0s 6ms/step - loss: 0.5026 - accuracy: 0.7727\n",
      "Epoch 135/300\n",
      "8/8 [==============================] - 0s 6ms/step - loss: 0.5033 - accuracy: 0.7727\n",
      "Epoch 136/300\n",
      "8/8 [==============================] - 0s 6ms/step - loss: 0.5047 - accuracy: 0.7934\n",
      "Epoch 137/300\n",
      "8/8 [==============================] - 0s 6ms/step - loss: 0.4910 - accuracy: 0.7893\n",
      "Epoch 138/300\n",
      "8/8 [==============================] - 0s 6ms/step - loss: 0.4774 - accuracy: 0.7769\n",
      "Epoch 139/300\n",
      "8/8 [==============================] - 0s 5ms/step - loss: 0.4838 - accuracy: 0.7851\n",
      "Epoch 140/300\n",
      "8/8 [==============================] - 0s 5ms/step - loss: 0.4724 - accuracy: 0.7893\n",
      "Epoch 141/300\n",
      "8/8 [==============================] - 0s 6ms/step - loss: 0.4683 - accuracy: 0.7769\n",
      "Epoch 142/300\n",
      "8/8 [==============================] - 0s 6ms/step - loss: 0.4761 - accuracy: 0.7975\n",
      "Epoch 143/300\n",
      "8/8 [==============================] - 0s 5ms/step - loss: 0.4616 - accuracy: 0.7975\n",
      "Epoch 144/300\n",
      "8/8 [==============================] - 0s 5ms/step - loss: 0.4621 - accuracy: 0.7893\n",
      "Epoch 145/300\n",
      "8/8 [==============================] - 0s 6ms/step - loss: 0.4603 - accuracy: 0.8017\n",
      "Epoch 146/300\n",
      "8/8 [==============================] - 0s 6ms/step - loss: 0.4546 - accuracy: 0.8099\n",
      "Epoch 147/300\n",
      "8/8 [==============================] - 0s 6ms/step - loss: 0.4548 - accuracy: 0.7893\n",
      "Epoch 148/300\n",
      "8/8 [==============================] - 0s 5ms/step - loss: 0.4492 - accuracy: 0.7934\n",
      "Epoch 149/300\n",
      "8/8 [==============================] - 0s 6ms/step - loss: 0.4533 - accuracy: 0.7975\n",
      "Epoch 150/300\n",
      "8/8 [==============================] - 0s 5ms/step - loss: 0.4512 - accuracy: 0.7851\n",
      "Epoch 151/300\n",
      "8/8 [==============================] - 0s 6ms/step - loss: 0.4483 - accuracy: 0.8223\n",
      "Epoch 152/300\n",
      "8/8 [==============================] - 0s 5ms/step - loss: 0.4413 - accuracy: 0.7934\n",
      "Epoch 153/300\n",
      "8/8 [==============================] - 0s 5ms/step - loss: 0.4485 - accuracy: 0.8058\n",
      "Epoch 154/300\n",
      "8/8 [==============================] - 0s 5ms/step - loss: 0.4347 - accuracy: 0.8099\n",
      "Epoch 155/300\n",
      "8/8 [==============================] - 0s 6ms/step - loss: 0.4333 - accuracy: 0.8140\n",
      "Epoch 156/300\n",
      "8/8 [==============================] - 0s 6ms/step - loss: 0.4302 - accuracy: 0.8223\n",
      "Epoch 157/300\n",
      "8/8 [==============================] - 0s 6ms/step - loss: 0.4359 - accuracy: 0.7893\n",
      "Epoch 158/300\n",
      "8/8 [==============================] - 0s 6ms/step - loss: 0.4355 - accuracy: 0.8140\n",
      "Epoch 159/300\n",
      "8/8 [==============================] - 0s 5ms/step - loss: 0.4356 - accuracy: 0.8058\n",
      "Epoch 160/300\n",
      "8/8 [==============================] - 0s 5ms/step - loss: 0.4227 - accuracy: 0.8347\n",
      "Epoch 161/300\n",
      "8/8 [==============================] - 0s 5ms/step - loss: 0.4311 - accuracy: 0.8058\n",
      "Epoch 162/300\n",
      "8/8 [==============================] - 0s 5ms/step - loss: 0.4329 - accuracy: 0.8140\n",
      "Epoch 163/300\n",
      "8/8 [==============================] - 0s 5ms/step - loss: 0.4285 - accuracy: 0.7975\n",
      "Epoch 164/300\n",
      "8/8 [==============================] - 0s 11ms/step - loss: 0.4265 - accuracy: 0.8140\n",
      "Epoch 165/300\n",
      "8/8 [==============================] - 0s 5ms/step - loss: 0.4356 - accuracy: 0.7810\n",
      "Epoch 166/300\n",
      "8/8 [==============================] - 0s 6ms/step - loss: 0.4423 - accuracy: 0.8099\n",
      "Epoch 167/300\n"
     ]
    },
    {
     "name": "stdout",
     "output_type": "stream",
     "text": [
      "8/8 [==============================] - 0s 6ms/step - loss: 0.4260 - accuracy: 0.7810\n",
      "Epoch 168/300\n",
      "8/8 [==============================] - 0s 5ms/step - loss: 0.4268 - accuracy: 0.8306\n",
      "Epoch 169/300\n",
      "8/8 [==============================] - 0s 6ms/step - loss: 0.4159 - accuracy: 0.8058\n",
      "Epoch 170/300\n",
      "8/8 [==============================] - 0s 5ms/step - loss: 0.4119 - accuracy: 0.8306\n",
      "Epoch 171/300\n",
      "8/8 [==============================] - 0s 5ms/step - loss: 0.4231 - accuracy: 0.8017\n",
      "Epoch 172/300\n",
      "8/8 [==============================] - 0s 6ms/step - loss: 0.4065 - accuracy: 0.8264\n",
      "Epoch 173/300\n",
      "8/8 [==============================] - 0s 5ms/step - loss: 0.4111 - accuracy: 0.8182\n",
      "Epoch 174/300\n",
      "8/8 [==============================] - 0s 5ms/step - loss: 0.4128 - accuracy: 0.8182\n",
      "Epoch 175/300\n",
      "8/8 [==============================] - 0s 5ms/step - loss: 0.4109 - accuracy: 0.8140\n",
      "Epoch 176/300\n",
      "8/8 [==============================] - 0s 4ms/step - loss: 0.4103 - accuracy: 0.8182\n",
      "Epoch 177/300\n",
      "8/8 [==============================] - 0s 4ms/step - loss: 0.4177 - accuracy: 0.8058\n",
      "Epoch 178/300\n",
      "8/8 [==============================] - 0s 5ms/step - loss: 0.4089 - accuracy: 0.8264\n",
      "Epoch 179/300\n",
      "8/8 [==============================] - 0s 5ms/step - loss: 0.4179 - accuracy: 0.7975\n",
      "Epoch 180/300\n",
      "8/8 [==============================] - 0s 5ms/step - loss: 0.4142 - accuracy: 0.8182\n",
      "Epoch 181/300\n",
      "8/8 [==============================] - 0s 5ms/step - loss: 0.4022 - accuracy: 0.8223\n",
      "Epoch 182/300\n",
      "8/8 [==============================] - 0s 5ms/step - loss: 0.4012 - accuracy: 0.8264\n",
      "Epoch 183/300\n",
      "8/8 [==============================] - 0s 5ms/step - loss: 0.3986 - accuracy: 0.8140\n",
      "Epoch 184/300\n",
      "8/8 [==============================] - 0s 5ms/step - loss: 0.4068 - accuracy: 0.8099\n",
      "Epoch 185/300\n",
      "8/8 [==============================] - 0s 5ms/step - loss: 0.4080 - accuracy: 0.8264\n",
      "Epoch 186/300\n",
      "8/8 [==============================] - 0s 5ms/step - loss: 0.4011 - accuracy: 0.8182\n",
      "Epoch 187/300\n",
      "8/8 [==============================] - 0s 5ms/step - loss: 0.3981 - accuracy: 0.8264\n",
      "Epoch 188/300\n",
      "8/8 [==============================] - 0s 5ms/step - loss: 0.4009 - accuracy: 0.8099\n",
      "Epoch 189/300\n",
      "8/8 [==============================] - 0s 5ms/step - loss: 0.4029 - accuracy: 0.8182\n",
      "Epoch 190/300\n",
      "8/8 [==============================] - 0s 6ms/step - loss: 0.3996 - accuracy: 0.8223\n",
      "Epoch 191/300\n",
      "8/8 [==============================] - 0s 7ms/step - loss: 0.4041 - accuracy: 0.8140\n",
      "Epoch 192/300\n",
      "8/8 [==============================] - 0s 5ms/step - loss: 0.4014 - accuracy: 0.8264\n",
      "Epoch 193/300\n",
      "8/8 [==============================] - 0s 6ms/step - loss: 0.4032 - accuracy: 0.8182\n",
      "Epoch 194/300\n",
      "8/8 [==============================] - 0s 6ms/step - loss: 0.3945 - accuracy: 0.8140\n",
      "Epoch 195/300\n",
      "8/8 [==============================] - 0s 6ms/step - loss: 0.3992 - accuracy: 0.8099\n",
      "Epoch 196/300\n",
      "8/8 [==============================] - 0s 5ms/step - loss: 0.4000 - accuracy: 0.8223\n",
      "Epoch 197/300\n",
      "8/8 [==============================] - 0s 5ms/step - loss: 0.3927 - accuracy: 0.8264\n",
      "Epoch 198/300\n",
      "8/8 [==============================] - 0s 5ms/step - loss: 0.3942 - accuracy: 0.8182\n",
      "Epoch 199/300\n",
      "8/8 [==============================] - 0s 5ms/step - loss: 0.4036 - accuracy: 0.8264\n",
      "Epoch 200/300\n",
      "8/8 [==============================] - 0s 5ms/step - loss: 0.4044 - accuracy: 0.8140\n",
      "Epoch 201/300\n",
      "8/8 [==============================] - 0s 5ms/step - loss: 0.3904 - accuracy: 0.8264\n",
      "Epoch 202/300\n",
      "8/8 [==============================] - 0s 5ms/step - loss: 0.3896 - accuracy: 0.8223\n",
      "Epoch 203/300\n",
      "8/8 [==============================] - 0s 5ms/step - loss: 0.3930 - accuracy: 0.8223\n",
      "Epoch 204/300\n",
      "8/8 [==============================] - 0s 6ms/step - loss: 0.3967 - accuracy: 0.8223\n",
      "Epoch 205/300\n",
      "8/8 [==============================] - 0s 5ms/step - loss: 0.3904 - accuracy: 0.8223\n",
      "Epoch 206/300\n",
      "8/8 [==============================] - 0s 5ms/step - loss: 0.3884 - accuracy: 0.8223\n",
      "Epoch 207/300\n",
      "8/8 [==============================] - 0s 6ms/step - loss: 0.3904 - accuracy: 0.8182\n",
      "Epoch 208/300\n",
      "8/8 [==============================] - 0s 6ms/step - loss: 0.3924 - accuracy: 0.8223\n",
      "Epoch 209/300\n",
      "8/8 [==============================] - 0s 5ms/step - loss: 0.3968 - accuracy: 0.8306\n",
      "Epoch 210/300\n",
      "8/8 [==============================] - 0s 5ms/step - loss: 0.3916 - accuracy: 0.8223\n",
      "Epoch 211/300\n",
      "8/8 [==============================] - 0s 5ms/step - loss: 0.3889 - accuracy: 0.8306\n",
      "Epoch 212/300\n",
      "8/8 [==============================] - 0s 6ms/step - loss: 0.3912 - accuracy: 0.8223\n",
      "Epoch 213/300\n",
      "8/8 [==============================] - 0s 5ms/step - loss: 0.3929 - accuracy: 0.8388\n",
      "Epoch 214/300\n",
      "8/8 [==============================] - 0s 6ms/step - loss: 0.4031 - accuracy: 0.8264\n",
      "Epoch 215/300\n",
      "8/8 [==============================] - 0s 5ms/step - loss: 0.4030 - accuracy: 0.8182\n",
      "Epoch 216/300\n",
      "8/8 [==============================] - 0s 6ms/step - loss: 0.3905 - accuracy: 0.8058\n",
      "Epoch 217/300\n",
      "8/8 [==============================] - 0s 6ms/step - loss: 0.4146 - accuracy: 0.8058\n",
      "Epoch 218/300\n",
      "8/8 [==============================] - 0s 6ms/step - loss: 0.4206 - accuracy: 0.8017\n",
      "Epoch 219/300\n",
      "8/8 [==============================] - 0s 5ms/step - loss: 0.4367 - accuracy: 0.8017\n",
      "Epoch 220/300\n",
      "8/8 [==============================] - 0s 6ms/step - loss: 0.3882 - accuracy: 0.8388\n",
      "Epoch 221/300\n",
      "8/8 [==============================] - 0s 5ms/step - loss: 0.3895 - accuracy: 0.8306\n",
      "Epoch 222/300\n",
      "8/8 [==============================] - 0s 5ms/step - loss: 0.3832 - accuracy: 0.8347\n",
      "Epoch 223/300\n",
      "8/8 [==============================] - 0s 5ms/step - loss: 0.3805 - accuracy: 0.8347\n",
      "Epoch 224/300\n",
      "8/8 [==============================] - 0s 5ms/step - loss: 0.3925 - accuracy: 0.8388\n",
      "Epoch 225/300\n",
      "8/8 [==============================] - 0s 5ms/step - loss: 0.3828 - accuracy: 0.8347\n",
      "Epoch 226/300\n",
      "8/8 [==============================] - 0s 6ms/step - loss: 0.3878 - accuracy: 0.8347\n",
      "Epoch 227/300\n",
      "8/8 [==============================] - 0s 6ms/step - loss: 0.3864 - accuracy: 0.8264\n",
      "Epoch 228/300\n",
      "8/8 [==============================] - 0s 5ms/step - loss: 0.3936 - accuracy: 0.8306\n",
      "Epoch 229/300\n",
      "8/8 [==============================] - 0s 5ms/step - loss: 0.3827 - accuracy: 0.8264\n",
      "Epoch 230/300\n",
      "8/8 [==============================] - 0s 6ms/step - loss: 0.3789 - accuracy: 0.8347\n",
      "Epoch 231/300\n",
      "8/8 [==============================] - 0s 6ms/step - loss: 0.3789 - accuracy: 0.8306\n",
      "Epoch 232/300\n",
      "8/8 [==============================] - 0s 5ms/step - loss: 0.3838 - accuracy: 0.8306\n",
      "Epoch 233/300\n",
      "8/8 [==============================] - 0s 5ms/step - loss: 0.3946 - accuracy: 0.8223\n",
      "Epoch 234/300\n",
      "8/8 [==============================] - 0s 5ms/step - loss: 0.3780 - accuracy: 0.8388\n",
      "Epoch 235/300\n",
      "8/8 [==============================] - 0s 4ms/step - loss: 0.3814 - accuracy: 0.8182\n",
      "Epoch 236/300\n",
      "8/8 [==============================] - 0s 5ms/step - loss: 0.3861 - accuracy: 0.8182\n",
      "Epoch 237/300\n",
      "8/8 [==============================] - 0s 5ms/step - loss: 0.3798 - accuracy: 0.8471\n",
      "Epoch 238/300\n",
      "8/8 [==============================] - 0s 4ms/step - loss: 0.3921 - accuracy: 0.8264\n",
      "Epoch 239/300\n",
      "8/8 [==============================] - 0s 5ms/step - loss: 0.4034 - accuracy: 0.8182\n",
      "Epoch 240/300\n",
      "8/8 [==============================] - 0s 4ms/step - loss: 0.3800 - accuracy: 0.8306\n",
      "Epoch 241/300\n",
      "8/8 [==============================] - 0s 5ms/step - loss: 0.3897 - accuracy: 0.8223\n",
      "Epoch 242/300\n",
      "8/8 [==============================] - 0s 5ms/step - loss: 0.3914 - accuracy: 0.8306\n",
      "Epoch 243/300\n",
      "8/8 [==============================] - 0s 5ms/step - loss: 0.3856 - accuracy: 0.8140\n",
      "Epoch 244/300\n",
      "8/8 [==============================] - 0s 5ms/step - loss: 0.3964 - accuracy: 0.8140\n",
      "Epoch 245/300\n",
      "8/8 [==============================] - 0s 5ms/step - loss: 0.3849 - accuracy: 0.8347\n",
      "Epoch 246/300\n",
      "8/8 [==============================] - 0s 5ms/step - loss: 0.3745 - accuracy: 0.8388\n",
      "Epoch 247/300\n",
      "8/8 [==============================] - 0s 5ms/step - loss: 0.3897 - accuracy: 0.8306\n",
      "Epoch 248/300\n",
      "8/8 [==============================] - 0s 4ms/step - loss: 0.3801 - accuracy: 0.8264\n",
      "Epoch 249/300\n"
     ]
    },
    {
     "name": "stdout",
     "output_type": "stream",
     "text": [
      "8/8 [==============================] - 0s 5ms/step - loss: 0.3779 - accuracy: 0.8306\n",
      "Epoch 250/300\n",
      "8/8 [==============================] - 0s 5ms/step - loss: 0.3830 - accuracy: 0.8264\n",
      "Epoch 251/300\n",
      "8/8 [==============================] - 0s 6ms/step - loss: 0.3749 - accuracy: 0.8223\n",
      "Epoch 252/300\n",
      "8/8 [==============================] - 0s 5ms/step - loss: 0.3766 - accuracy: 0.8306\n",
      "Epoch 253/300\n",
      "8/8 [==============================] - 0s 5ms/step - loss: 0.3746 - accuracy: 0.8264\n",
      "Epoch 254/300\n",
      "8/8 [==============================] - 0s 5ms/step - loss: 0.3940 - accuracy: 0.8140\n",
      "Epoch 255/300\n",
      "8/8 [==============================] - 0s 5ms/step - loss: 0.3768 - accuracy: 0.8347\n",
      "Epoch 256/300\n",
      "8/8 [==============================] - 0s 6ms/step - loss: 0.3785 - accuracy: 0.8388\n",
      "Epoch 257/300\n",
      "8/8 [==============================] - 0s 5ms/step - loss: 0.3737 - accuracy: 0.8347\n",
      "Epoch 258/300\n",
      "8/8 [==============================] - 0s 5ms/step - loss: 0.3770 - accuracy: 0.8264\n",
      "Epoch 259/300\n",
      "8/8 [==============================] - 0s 6ms/step - loss: 0.3739 - accuracy: 0.8347\n",
      "Epoch 260/300\n",
      "8/8 [==============================] - 0s 5ms/step - loss: 0.3728 - accuracy: 0.8347\n",
      "Epoch 261/300\n",
      "8/8 [==============================] - 0s 5ms/step - loss: 0.3795 - accuracy: 0.8430\n",
      "Epoch 262/300\n",
      "8/8 [==============================] - 0s 5ms/step - loss: 0.3717 - accuracy: 0.8430\n",
      "Epoch 263/300\n",
      "8/8 [==============================] - 0s 6ms/step - loss: 0.3775 - accuracy: 0.8388\n",
      "Epoch 264/300\n",
      "8/8 [==============================] - 0s 5ms/step - loss: 0.3772 - accuracy: 0.8430\n",
      "Epoch 265/300\n",
      "8/8 [==============================] - 0s 5ms/step - loss: 0.3699 - accuracy: 0.8347\n",
      "Epoch 266/300\n",
      "8/8 [==============================] - 0s 4ms/step - loss: 0.3693 - accuracy: 0.8306\n",
      "Epoch 267/300\n",
      "8/8 [==============================] - 0s 4ms/step - loss: 0.3910 - accuracy: 0.8388\n",
      "Epoch 268/300\n",
      "8/8 [==============================] - 0s 5ms/step - loss: 0.3719 - accuracy: 0.8388\n",
      "Epoch 269/300\n",
      "8/8 [==============================] - 0s 4ms/step - loss: 0.3954 - accuracy: 0.8388\n",
      "Epoch 270/300\n",
      "8/8 [==============================] - 0s 4ms/step - loss: 0.3727 - accuracy: 0.8347\n",
      "Epoch 271/300\n",
      "8/8 [==============================] - 0s 4ms/step - loss: 0.3725 - accuracy: 0.8388\n",
      "Epoch 272/300\n",
      "8/8 [==============================] - 0s 5ms/step - loss: 0.3721 - accuracy: 0.8430\n",
      "Epoch 273/300\n",
      "8/8 [==============================] - 0s 5ms/step - loss: 0.3759 - accuracy: 0.8471\n",
      "Epoch 274/300\n",
      "8/8 [==============================] - 0s 4ms/step - loss: 0.3958 - accuracy: 0.8223\n",
      "Epoch 275/300\n",
      "8/8 [==============================] - 0s 4ms/step - loss: 0.3811 - accuracy: 0.8182\n",
      "Epoch 276/300\n",
      "8/8 [==============================] - 0s 5ms/step - loss: 0.3689 - accuracy: 0.8306\n",
      "Epoch 277/300\n",
      "8/8 [==============================] - 0s 5ms/step - loss: 0.3735 - accuracy: 0.8306\n",
      "Epoch 278/300\n",
      "8/8 [==============================] - 0s 6ms/step - loss: 0.3691 - accuracy: 0.8388\n",
      "Epoch 279/300\n",
      "8/8 [==============================] - 0s 5ms/step - loss: 0.3673 - accuracy: 0.8430\n",
      "Epoch 280/300\n",
      "8/8 [==============================] - 0s 5ms/step - loss: 0.3696 - accuracy: 0.8430\n",
      "Epoch 281/300\n",
      "8/8 [==============================] - 0s 5ms/step - loss: 0.3776 - accuracy: 0.8140\n",
      "Epoch 282/300\n",
      "8/8 [==============================] - 0s 5ms/step - loss: 0.3728 - accuracy: 0.8306\n",
      "Epoch 283/300\n",
      "8/8 [==============================] - 0s 5ms/step - loss: 0.3695 - accuracy: 0.8430\n",
      "Epoch 284/300\n",
      "8/8 [==============================] - 0s 4ms/step - loss: 0.3745 - accuracy: 0.8388\n",
      "Epoch 285/300\n",
      "8/8 [==============================] - 0s 4ms/step - loss: 0.3793 - accuracy: 0.8430\n",
      "Epoch 286/300\n",
      "8/8 [==============================] - 0s 4ms/step - loss: 0.3801 - accuracy: 0.8347\n",
      "Epoch 287/300\n",
      "8/8 [==============================] - 0s 4ms/step - loss: 0.3750 - accuracy: 0.8347\n",
      "Epoch 288/300\n",
      "8/8 [==============================] - 0s 4ms/step - loss: 0.3674 - accuracy: 0.8388\n",
      "Epoch 289/300\n",
      "8/8 [==============================] - 0s 4ms/step - loss: 0.3694 - accuracy: 0.8430\n",
      "Epoch 290/300\n",
      "8/8 [==============================] - 0s 4ms/step - loss: 0.3748 - accuracy: 0.8430\n",
      "Epoch 291/300\n",
      "8/8 [==============================] - 0s 4ms/step - loss: 0.3901 - accuracy: 0.8182\n",
      "Epoch 292/300\n",
      "8/8 [==============================] - 0s 4ms/step - loss: 0.3702 - accuracy: 0.8306\n",
      "Epoch 293/300\n",
      "8/8 [==============================] - 0s 5ms/step - loss: 0.3715 - accuracy: 0.8347\n",
      "Epoch 294/300\n",
      "8/8 [==============================] - 0s 4ms/step - loss: 0.3876 - accuracy: 0.8264\n",
      "Epoch 295/300\n",
      "8/8 [==============================] - 0s 4ms/step - loss: 0.3684 - accuracy: 0.8388\n",
      "Epoch 296/300\n",
      "8/8 [==============================] - 0s 5ms/step - loss: 0.3717 - accuracy: 0.8306\n",
      "Epoch 297/300\n",
      "8/8 [==============================] - 0s 5ms/step - loss: 0.4017 - accuracy: 0.8099\n",
      "Epoch 298/300\n",
      "8/8 [==============================] - 0s 4ms/step - loss: 0.4217 - accuracy: 0.8017\n",
      "Epoch 299/300\n",
      "8/8 [==============================] - 0s 5ms/step - loss: 0.4135 - accuracy: 0.8182\n",
      "Epoch 300/300\n",
      "8/8 [==============================] - 0s 4ms/step - loss: 0.3804 - accuracy: 0.8388\n"
     ]
    },
    {
     "data": {
      "text/plain": [
       "<keras.src.callbacks.History at 0x2000a1edd60>"
      ]
     },
     "execution_count": 164,
     "metadata": {},
     "output_type": "execute_result"
    }
   ],
   "source": [
    "model.fit(X_train,Y_train,epochs=300)"
   ]
  },
  {
   "cell_type": "code",
   "execution_count": 165,
   "id": "f258e68e",
   "metadata": {},
   "outputs": [
    {
     "name": "stdout",
     "output_type": "stream",
     "text": [
      "2/2 [==============================] - 0s 6ms/step\n"
     ]
    }
   ],
   "source": [
    "Y_pred_nn = model.predict(X_test)"
   ]
  },
  {
   "cell_type": "code",
   "execution_count": 166,
   "id": "6e208e53",
   "metadata": {},
   "outputs": [
    {
     "data": {
      "text/plain": [
       "(61, 1)"
      ]
     },
     "execution_count": 166,
     "metadata": {},
     "output_type": "execute_result"
    }
   ],
   "source": [
    "Y_pred_nn.shape"
   ]
  },
  {
   "cell_type": "code",
   "execution_count": 167,
   "id": "5651647c",
   "metadata": {},
   "outputs": [],
   "source": [
    "rounded = [round(x[0]) for x in Y_pred_nn]\n",
    "\n",
    "Y_pred_nn = rounded"
   ]
  },
  {
   "cell_type": "code",
   "execution_count": 168,
   "id": "d46f7fe6",
   "metadata": {},
   "outputs": [
    {
     "name": "stdout",
     "output_type": "stream",
     "text": [
      "The accuracy score achieved using Neural Network is: 83.61 %\n"
     ]
    }
   ],
   "source": [
    "score_nn = round(accuracy_score(Y_pred_nn,Y_test)*100,2)\n",
    "\n",
    "print(\"The accuracy score achieved using Neural Network is: \"+str(score_nn)+\" %\")\n",
    "\n",
    "#Note: Accuracy of 85% can be achieved on the test set, by setting epochs=2000, and number of nodes = 11. "
   ]
  },
  {
   "cell_type": "markdown",
   "id": "b920051b",
   "metadata": {},
   "source": [
    "## Output final score"
   ]
  },
  {
   "cell_type": "code",
   "execution_count": 171,
   "id": "5693e982",
   "metadata": {},
   "outputs": [
    {
     "name": "stdout",
     "output_type": "stream",
     "text": [
      "The accuracy score achieved using Logistic Regression is: 85.25 %\n",
      "The accuracy score achieved using Naive Bayes is: 85.25 %\n",
      "The accuracy score achieved using Support Vector Machine is: 85.25 %\n",
      "The accuracy score achieved using K-Nearest Neighbors is: 67.21 %\n",
      "The accuracy score achieved using Decision Tree is: 81.97 %\n",
      "The accuracy score achieved using Random Forest is: 90.16 %\n",
      "The accuracy score achieved using XGBoost is: 78.69 %\n",
      "The accuracy score achieved using Neural Network is: 83.61 %\n"
     ]
    }
   ],
   "source": [
    "scores = [score_lr,score_nb,score_svm,score_knn,score_dt,score_rf,score_xgb,score_nn]\n",
    "algorithms = [\"Logistic Regression\",\"Naive Bayes\",\"Support Vector Machine\",\"K-Nearest Neighbors\",\"Decision Tree\",\"Random Forest\",\"XGBoost\",\"Neural Network\"]    \n",
    "\n",
    "for i in range(len(algorithms)):\n",
    "    print(\"The accuracy score achieved using \"+algorithms[i]+\" is: \"+str(scores[i])+\" %\")"
   ]
  },
  {
   "cell_type": "code",
   "execution_count": 174,
   "id": "51e19bf0",
   "metadata": {},
   "outputs": [
    {
     "data": {
      "image/png": "[encoded data removed]",
      "text/plain": [
       "<Figure size 1080x576 with 1 Axes>"
      ]
     },
     "metadata": {},
     "output_type": "display_data"
    }
   ],
   "source": [
    "sns.set(rc={'figure.figsize':(15,8)})\n",
    "\n",
    "sns.barplot(x=algorithms,y=scores)\n",
    "plt.xlabel(\"Algorithms\")\n",
    "plt.ylabel(\"Accuracy score\")\n",
    "plt.show()"
   ]
  },
  {
   "cell_type": "markdown",
   "id": "3a293d94",
   "metadata": {},
   "source": [
    "## Finally Random forest hasHighest Accuracy\n"
   ]
  }
 ],
 "metadata": {
  "kernelspec": {
   "display_name": "Python 3 (ipykernel)",
   "language": "python",
   "name": "python3"
  },
  "language_info": {
   "codemirror_mode": {
    "name": "ipython",
    "version": 3
   },
   "file_extension": ".py",
   "mimetype": "text/x-python",
   "name": "python",
   "nbconvert_exporter": "python",
   "pygments_lexer": "ipython3",
   "version": "3.9.10"
  }
 },
 "nbformat": 4,
 "nbformat_minor": 5
}
